{
 "cells": [
  {
   "cell_type": "code",
   "execution_count": null,
   "metadata": {},
   "outputs": [
    {
     "data": {
      "text/plain": [
       "device(type='cuda')"
      ]
     },
     "execution_count": 1,
     "metadata": {},
     "output_type": "execute_result"
    }
   ],
   "source": [
    "import torch\n",
    "import torch.nn as nn\n",
    "from torchvision.datasets import CIFAR10\n",
    "import numpy as np\n",
    "from torch.utils.data import DataLoader, Subset, Dataset\n",
    "from tqdm import tqdm\n",
    "import albumentations as A \n",
    "from albumentations.pytorch import ToTensorV2\n",
    "import pickle\n",
    "device = torch.device(\"cuda\") if torch.cuda.is_available() else torch.device('cpu')\n",
    "device"
   ]
  },
  {
   "cell_type": "code",
   "execution_count": 2,
   "metadata": {},
   "outputs": [],
   "source": [
    "class LeNet(nn.Module):\n",
    "    def __init__(self):\n",
    "        super().__init__()\n",
    "        self.features = nn.Sequential(\n",
    "            nn.Conv2d(3, 6, kernel_size=3, padding=1),\n",
    "            nn.BatchNorm2d(6),\n",
    "            nn.GELU(),\n",
    "            nn.MaxPool2d(kernel_size=2, stride=2),\n",
    "            nn.Conv2d(6, 16, kernel_size=3, padding=1),\n",
    "            nn.BatchNorm2d(16),\n",
    "            nn.GELU(),\n",
    "            nn.MaxPool2d(kernel_size=2, stride=2),\n",
    "        )\n",
    "        self.avgpool = nn.AdaptiveAvgPool2d((6, 6))\n",
    "        self.classifier = nn.Sequential(\n",
    "            nn.Linear(16*6*6, 120),\n",
    "            nn.GELU(),\n",
    "            nn.Dropout(p=0.5),\n",
    "            nn.Linear(120, 84),\n",
    "            nn.GELU(),\n",
    "            nn.Dropout(p=0.5),\n",
    "            nn.Linear(84, 10),\n",
    "        )\n",
    "    def forward(self, x):\n",
    "        x = self.features(x)\n",
    "        x = self.avgpool(x)\n",
    "        x = torch.flatten(x, 1)\n",
    "        x = self.classifier(x)\n",
    "        return x"
   ]
  },
  {
   "cell_type": "code",
   "execution_count": 3,
   "metadata": {},
   "outputs": [],
   "source": [
    "class VGG(nn.Module):\n",
    "    def __init__(self):\n",
    "        super().__init__()\n",
    "        self.features = nn.Sequential(\n",
    "            *[\n",
    "                *[\n",
    "                    nn.Conv2d(3, 64, kernel_size=3, padding=1),\n",
    "                    nn.BatchNorm2d(64),\n",
    "                    nn.GELU(),\n",
    "                ],\n",
    "                *[\n",
    "                    nn.Conv2d(64, 64, kernel_size=3, padding=1),\n",
    "                    nn.BatchNorm2d(64),\n",
    "                    nn.GELU(),\n",
    "                ],\n",
    "                *[nn.MaxPool2d(kernel_size=2, stride=2)],\n",
    "                *[\n",
    "                    nn.Conv2d(64, 128, kernel_size=3, padding=1),\n",
    "                    nn.BatchNorm2d(128),\n",
    "                    nn.GELU(),\n",
    "                ],\n",
    "                *[\n",
    "                    nn.Conv2d(128, 128, kernel_size=3, padding=1),\n",
    "                    nn.BatchNorm2d(128),\n",
    "                    nn.GELU(),\n",
    "                ],\n",
    "                *[nn.MaxPool2d(kernel_size=2, stride=2)],\n",
    "                *[\n",
    "                    nn.Conv2d(128, 256, kernel_size=3, padding=1),\n",
    "                    nn.BatchNorm2d(256),\n",
    "                    nn.GELU(),\n",
    "                ],\n",
    "                *[\n",
    "                    nn.Conv2d(256, 256, kernel_size=3, padding=1),\n",
    "                    nn.BatchNorm2d(256),\n",
    "                    nn.GELU(),\n",
    "                ],\n",
    "                # *[\n",
    "                #     nn.Conv2d(256, 256, kernel_size=3, padding=1),\n",
    "                #     nn.BatchNorm2d(256),\n",
    "                #     nn.GELU(),\n",
    "                # ],\n",
    "                *[nn.MaxPool2d(kernel_size=2, stride=2)],\n",
    "                *[\n",
    "                    nn.Conv2d(256, 512, kernel_size=3, padding=1),\n",
    "                    nn.BatchNorm2d(512),\n",
    "                    nn.GELU(),\n",
    "                ],\n",
    "                *[\n",
    "                    nn.Conv2d(512, 512, kernel_size=3, padding=1),\n",
    "                    nn.BatchNorm2d(512),\n",
    "                    nn.GELU(),\n",
    "                ],\n",
    "                # *[\n",
    "                #     nn.Conv2d(512, 512, kernel_size=3, padding=1),\n",
    "                #     nn.BatchNorm2d(512),\n",
    "                #     nn.GELU(),\n",
    "                # ],\n",
    "                *[nn.MaxPool2d(kernel_size=2, stride=2)],\n",
    "                *[\n",
    "                    nn.Conv2d(512, 512, kernel_size=3, padding=1),\n",
    "                    nn.BatchNorm2d(512),\n",
    "                    nn.GELU(),\n",
    "                ],\n",
    "                *[\n",
    "                    nn.Conv2d(512, 512, kernel_size=3, padding=1),\n",
    "                    nn.BatchNorm2d(512),\n",
    "                    nn.GELU(),\n",
    "                ],\n",
    "                # *[\n",
    "                #     nn.Conv2d(512, 512, kernel_size=3, padding=1),\n",
    "                #     nn.BatchNorm2d(512),\n",
    "                #     nn.GELU(),\n",
    "                # ],\n",
    "                *[nn.MaxPool2d(kernel_size=2, stride=2)],\n",
    "            ]\n",
    "        )\n",
    "        self.avgpool = nn.AdaptiveAvgPool2d((7, 7))\n",
    "        self.classifier = nn.Sequential(\n",
    "            nn.Linear(512 * 7 * 7, 4096),\n",
    "            nn.GELU(),\n",
    "            nn.Dropout(p=0.5),\n",
    "            nn.Linear(4096, 4096),\n",
    "            nn.GELU(),\n",
    "            nn.Dropout(p=0.5),\n",
    "            nn.Linear(4096, 10),\n",
    "        )\n",
    "    def forward(self, x):\n",
    "        x = self.features(x)\n",
    "        x = self.avgpool(x)\n",
    "        x = torch.flatten(x, 1)\n",
    "        x = self.classifier(x)\n",
    "        return x"
   ]
  },
  {
   "cell_type": "code",
   "execution_count": 4,
   "metadata": {},
   "outputs": [],
   "source": [
    "class Bottleneck(nn.Module):\n",
    "    def __init__(self, in_features, out_features, stride=1,downsample=None):\n",
    "        super().__init__()\n",
    "        self.conv1 = nn.Conv2d(in_features, out_features, kernel_size=1, bias=False)\n",
    "        self.bn1 = nn.BatchNorm2d(out_features)\n",
    "        self.conv2 = nn.Conv2d(\n",
    "            out_features,\n",
    "            out_features,\n",
    "            kernel_size=3,\n",
    "            stride=stride,\n",
    "            padding=1,\n",
    "            bias=False,\n",
    "        )\n",
    "        self.bn2 = nn.BatchNorm2d(out_features)\n",
    "        self.conv3 = nn.Conv2d(\n",
    "            out_features, out_features * 4, kernel_size=1, bias=False\n",
    "        )\n",
    "        self.bn3 = nn.BatchNorm2d(out_features * 4)\n",
    "        self.gelu = nn.GELU()\n",
    "        self.downsample = downsample\n",
    "\n",
    "    def forward(self, x):\n",
    "        identity = x\n",
    "        out = self.conv1(x)\n",
    "        out = self.bn1(out)\n",
    "        out = self.gelu(out)\n",
    "\n",
    "        out = self.conv2(out)\n",
    "        out = self.bn2(out)\n",
    "        out = self.gelu(out)\n",
    "\n",
    "        out = self.conv3(out)\n",
    "        out = self.bn3(out)\n",
    "        if self.downsample is not None:\n",
    "            identity = self.downsample(x)\n",
    "        out += identity\n",
    "        out = self.gelu(out)\n",
    "        return out\n",
    "\n",
    "\n",
    "# [3, 4, 6, 3]\n",
    "\n",
    "\n",
    "class ResNet(nn.Module):\n",
    "    def __init__(self):\n",
    "        super().__init__()\n",
    "        self.conv1 = nn.Conv2d(3, 64, kernel_size=7, stride=2, padding=3, bias=False)\n",
    "        self.bn1 = nn.BatchNorm2d(64)\n",
    "        self.gelu = nn.GELU()\n",
    "        self.maxpool = nn.MaxPool2d(3, stride=2, padding=1)\n",
    "        self.layer1 = nn.Sequential(\n",
    "            Bottleneck(64, 64, downsample=nn.Sequential(\n",
    "                nn.Conv2d(64, 64 * 4, kernel_size=1, stride=1),\n",
    "                nn.BatchNorm2d(64 * 4)\n",
    "            )),\n",
    "            Bottleneck(64 * 4, 64),\n",
    "            Bottleneck(64 * 4, 64),\n",
    "        )\n",
    "        self.layer2 = nn.Sequential(\n",
    "            Bottleneck(64 * 4, 128, stride=2, downsample=nn.Sequential(\n",
    "                nn.Conv2d(64 * 4, 128 * 4, kernel_size=1, stride=2),\n",
    "                nn.BatchNorm2d(128 * 4)\n",
    "            )),\n",
    "            Bottleneck(128 * 4, 128),\n",
    "            Bottleneck(128 * 4, 128),\n",
    "            Bottleneck(128 * 4, 128),\n",
    "        )\n",
    "        self.layer3 = nn.Sequential(\n",
    "            Bottleneck(128 * 4, 256, stride=2, downsample=nn.Sequential(\n",
    "                nn.Conv2d(128 * 4, 256 * 4, kernel_size=1, stride=2),\n",
    "                nn.BatchNorm2d(256 * 4)\n",
    "            )),\n",
    "            Bottleneck(256 * 4, 256),\n",
    "            Bottleneck(256 * 4, 256),\n",
    "            Bottleneck(256 * 4, 256),\n",
    "            Bottleneck(256 * 4, 256),\n",
    "            Bottleneck(256 * 4, 256),\n",
    "        )\n",
    "        self.layer4 = nn.Sequential(\n",
    "            Bottleneck(256 * 4, 512, stride=2, downsample=nn.Sequential(\n",
    "                nn.Conv2d(256 * 4, 512 * 4, kernel_size=1, stride=2),\n",
    "                nn.BatchNorm2d(512 * 4)\n",
    "            )),\n",
    "            Bottleneck(512 * 4, 512),\n",
    "            Bottleneck(512 * 4, 512),\n",
    "        )\n",
    "        self.avgpool = nn.AdaptiveAvgPool2d((1, 1))\n",
    "        self.classifier = nn.Linear(512 * 4, 10)\n",
    "\n",
    "    def forward(self, x):\n",
    "        x = self.conv1(x)\n",
    "        x = self.bn1(x)\n",
    "        x = self.gelu(x)\n",
    "        x = self.maxpool(x)\n",
    "\n",
    "        x = self.layer1(x)\n",
    "        x = self.layer2(x)\n",
    "        x = self.layer3(x)\n",
    "        x = self.layer4(x)\n",
    "\n",
    "        x = self.avgpool(x)\n",
    "        x = torch.flatten(x, 1)\n",
    "        x = self.classifier(x)\n",
    "        return x"
   ]
  },
  {
   "cell_type": "code",
   "execution_count": null,
   "metadata": {},
   "outputs": [],
   "source": [
    "class Model:\n",
    "    def __init__(self, model, optimizer, criterion, lr_scheduler):\n",
    "        self.model = model\n",
    "        self.optimizer = optimizer\n",
    "        self.criterion = criterion\n",
    "        self.lr_scheduler = lr_scheduler\n",
    "        self.train_losses = []\n",
    "        self.train_accs = []\n",
    "        self.val_losses = []\n",
    "        self.val_accs = []\n",
    "        self.best_valid = float(0)\n",
    "        if isinstance(self.model, LeNet):\n",
    "            self.name = \"LeNet\"\n",
    "        elif isinstance(self.model, VGG):\n",
    "            self.name = \"VGG\"\n",
    "        elif isinstance(self.model, ResNet):\n",
    "            self.name = \"ResNet\"\n",
    "\n",
    "    def optim_to_str(self):\n",
    "        if isinstance(self.optimizer, torch.optim.SGD):\n",
    "            if self.optimizer.param_groups[0][\"nesterov\"]:\n",
    "                return \"NAG\"\n",
    "            else:\n",
    "                return \"SGD\"\n",
    "        if isinstance(self.optimizer, torch.optim.Adadelta):\n",
    "            return \"Adadelta\"\n",
    "        if isinstance(self.optimizer, torch.optim.NAdam):\n",
    "            return \"NAdam\"\n",
    "        if isinstance(self.optimizer, torch.optim.RAdam):\n",
    "            return \"RAdam\"\n",
    "        if isinstance(self.optimizer, torch.optim.Adamax):\n",
    "            return \"Adamax\"\n",
    "\n",
    "    def __str__(self):\n",
    "        \n",
    "        return self.name + \"_with_\" + self.optim_to_str()\n",
    "\n",
    "    def train_one_epoch(self, trainloader):\n",
    "        self.model.train()\n",
    "        print(f\"Training {self}\")\n",
    "        train_running_loss = 0.0\n",
    "        train_running_correct = 0\n",
    "        counter = 0\n",
    "        for i, data in tqdm(enumerate(trainloader), total=len(trainloader)):\n",
    "            counter += 1\n",
    "            image, labels = data\n",
    "            image = image.to(device)\n",
    "            labels = labels.to(device)\n",
    "            self.optimizer.zero_grad()\n",
    "            outputs = self.model(image)\n",
    "            loss = self.criterion(outputs, labels)\n",
    "            train_running_loss += loss.item()\n",
    "            _, preds = torch.max(outputs.data, 1)\n",
    "            train_running_correct += (preds == labels).sum().item()\n",
    "            loss.backward()\n",
    "            self.optimizer.step()\n",
    "        self.train_losses.append(train_running_loss / counter)\n",
    "        self.train_accs.append(100.0 * (train_running_correct / len(trainloader.dataset)))\n",
    "\n",
    "    def validate(self, testloader):\n",
    "        self.model.eval()\n",
    "        print(f\"Validation {self}\")\n",
    "        valid_running_loss = 0.0\n",
    "        valid_running_correct = 0\n",
    "        counter = 0\n",
    "        with torch.no_grad():\n",
    "            for i, data in tqdm(enumerate(testloader), total=len(testloader)):\n",
    "                counter += 1\n",
    "\n",
    "                image, labels = data\n",
    "                image = image.to(device)\n",
    "                labels = labels.to(device)\n",
    "                outputs = self.model(image)\n",
    "                loss = self.criterion(outputs, labels)\n",
    "                valid_running_loss += loss.item()\n",
    "                _, preds = torch.max(outputs.data, 1)\n",
    "                valid_running_correct += (preds == labels).sum().item()\n",
    "        self.val_losses.append(valid_running_loss / counter)\n",
    "        self.val_accs.append(\n",
    "            100.0 * (valid_running_correct / len(testloader.dataset))\n",
    "        )\n",
    "    def step(self,epoch, train_loader, val_loader):\n",
    "        self.train_one_epoch(train_loader)\n",
    "        self.validate(val_loader)\n",
    "        if isinstance(self.lr_scheduler, torch.optim.lr_scheduler.ReduceLROnPlateau):\n",
    "            self.lr_scheduler.step(self.val_accs[-1])\n",
    "        else:\n",
    "            self.lr_scheduler.step()\n",
    "        print(f\"Training loss: {self.train_losses[-1]:.3f}, training acc: {self.train_accs[-1]:.3f}\")\n",
    "        print(f\"Validation loss: {self.val_losses[-1]:.3f}, validation acc: {self.val_accs[-1]:.3f}\")\n",
    "        print(f'Lr: {self.lr_scheduler.get_last_lr()}')\n",
    "        self.save_best(epoch)\n",
    "        print('-'*50)\n",
    "        \n",
    "        \n",
    "\n",
    "    def save_best(self, epoch):\n",
    "        if self.val_accs[-1] > self.best_valid:\n",
    "            self.best_valid = self.val_accs[-1]\n",
    "            print(f\"\\nBEST VALIDATION: {self.best_valid}\")\n",
    "            print(f\"\\nSAVING BEST MODEL FOR EPOCH: {epoch+1}\\n\")\n",
    "            torch.save(\n",
    "                {\n",
    "                    \"epoch\": epoch + 1,\n",
    "                    \"model_state_dict\": self.model.state_dict(),\n",
    "                },\n",
    "                f\"best_{self}.pth\",\n",
    "            )\n",
    "    def save_model(self, epochs):\n",
    "        torch.save({\n",
    "                    'epoch': epochs,\n",
    "                    'model_state_dict': self.model.state_dict(),\n",
    "                    'optimizer_state_dict': self.optimizer.state_dict(),\n",
    "                    'loss': self.criterion,\n",
    "                    }, f\"{self}.pth\")\n",
    "    def save_train_data(self, epochs):\n",
    "        data = {'name': str(self),'epochs': epochs, 'train_losses': self.train_losses,\n",
    "                'train_accs': self.train_accs, 'val_losses': self.val_losses,\n",
    "                'val_accs': self.val_accs, 'best_valid': self.best_valid}\n",
    "        with open(f'{self}_dat.pkl', 'wb') as f:\n",
    "            pickle.dump(data, f)\n",
    "            \n",
    "        "
   ]
  },
  {
   "cell_type": "code",
   "execution_count": 6,
   "metadata": {},
   "outputs": [],
   "source": [
    "models = []\n",
    "patience = 3\n",
    "cooldown = 3\n",
    "threshold = 1e-3\n",
    "\n",
    "\n",
    "model = LeNet()#.to(device)\n",
    "optimizer = torch.optim.SGD(model.parameters(), momentum=0.9)\n",
    "criterion = nn.CrossEntropyLoss()\n",
    "lr_scheduler = torch.optim.lr_scheduler.ReduceLROnPlateau(\n",
    "    optimizer, mode=\"max\", patience=patience, min_lr=1e-5, cooldown=cooldown, threshold=threshold\n",
    ")\n",
    "models.append(Model(model, optimizer, criterion, lr_scheduler))\n",
    "model = LeNet()#.to(device)\n",
    "optimizer = torch.optim.SGD(model.parameters(), momentum=0.9, nesterov=True)\n",
    "criterion = nn.CrossEntropyLoss()\n",
    "lr_scheduler = torch.optim.lr_scheduler.ReduceLROnPlateau(\n",
    "    optimizer, mode=\"max\", patience=patience, min_lr=1e-5, cooldown=cooldown, threshold=threshold\n",
    ")\n",
    "models.append(Model(model, optimizer, criterion, lr_scheduler))\n",
    "model = LeNet()#.to(device)\n",
    "optimizer = torch.optim.Adadelta(model.parameters())\n",
    "criterion = nn.CrossEntropyLoss()\n",
    "lr_scheduler = torch.optim.lr_scheduler.ReduceLROnPlateau(\n",
    "    optimizer, mode=\"max\", patience=patience, min_lr=1e-3, cooldown=cooldown, threshold=threshold\n",
    ")\n",
    "models.append(Model(model, optimizer, criterion, lr_scheduler))\n",
    "model = LeNet()#.to(device)\n",
    "optimizer = torch.optim.NAdam(model.parameters(), decoupled_weight_decay=True, weight_decay=1e-4)\n",
    "criterion = nn.CrossEntropyLoss()\n",
    "lr_scheduler = torch.optim.lr_scheduler.ReduceLROnPlateau(\n",
    "    optimizer, mode=\"max\", patience=patience, min_lr=1e-5, cooldown=cooldown, threshold=threshold\n",
    ")\n",
    "models.append(Model(model, optimizer, criterion, lr_scheduler))\n",
    "\n",
    "model = VGG()#.to(device)\n",
    "optimizer = torch.optim.SGD(model.parameters(), momentum=0.9)\n",
    "criterion = nn.CrossEntropyLoss()\n",
    "lr_scheduler = torch.optim.lr_scheduler.ReduceLROnPlateau(\n",
    "    optimizer, mode=\"max\", patience=patience, min_lr=1e-5, cooldown=cooldown, threshold=threshold\n",
    ")\n",
    "models.append(Model(model, optimizer, criterion, lr_scheduler))\n",
    "model = VGG()#.to(device)\n",
    "optimizer = torch.optim.SGD(model.parameters(), momentum=0.9, nesterov=True)\n",
    "criterion = nn.CrossEntropyLoss()\n",
    "lr_scheduler = torch.optim.lr_scheduler.ReduceLROnPlateau(\n",
    "    optimizer, mode=\"max\", patience=patience, min_lr=1e-5, cooldown=cooldown, threshold=threshold\n",
    ")\n",
    "models.append(Model(model, optimizer, criterion, lr_scheduler))\n",
    "model = VGG()#.to(device)\n",
    "optimizer = torch.optim.Adadelta(model.parameters())\n",
    "criterion = nn.CrossEntropyLoss()\n",
    "lr_scheduler = torch.optim.lr_scheduler.ReduceLROnPlateau(\n",
    "    optimizer, mode=\"max\", patience=patience, min_lr=1e-3, cooldown=cooldown, threshold=threshold\n",
    ")\n",
    "models.append(Model(model, optimizer, criterion, lr_scheduler))\n",
    "model = VGG()#.to(device)\n",
    "optimizer = torch.optim.NAdam(model.parameters(),lr=6e-4, decoupled_weight_decay=True, weight_decay=1e-4)\n",
    "criterion = nn.CrossEntropyLoss()\n",
    "lr_scheduler = torch.optim.lr_scheduler.ReduceLROnPlateau(\n",
    "    optimizer, mode=\"max\", patience=patience, min_lr=1e-5, cooldown=cooldown, threshold=threshold\n",
    ")\n",
    "models.append(Model(model, optimizer, criterion, lr_scheduler))\n",
    "\n",
    "model = ResNet()#.to(device)\n",
    "optimizer = torch.optim.SGD(model.parameters(), momentum=0.9)\n",
    "criterion = nn.CrossEntropyLoss()\n",
    "lr_scheduler = torch.optim.lr_scheduler.ReduceLROnPlateau(\n",
    "    optimizer, mode=\"max\", patience=patience, min_lr=1e-5, cooldown=cooldown, threshold=threshold\n",
    ")\n",
    "models.append(Model(model, optimizer, criterion, lr_scheduler))\n",
    "model = ResNet()#.to(device)\n",
    "optimizer = torch.optim.SGD(model.parameters(), momentum=0.9, nesterov=True)\n",
    "criterion = nn.CrossEntropyLoss()\n",
    "lr_scheduler = torch.optim.lr_scheduler.ReduceLROnPlateau(\n",
    "    optimizer, mode=\"max\", patience=patience, min_lr=1e-5, cooldown=cooldown, threshold=threshold\n",
    ")\n",
    "models.append(Model(model, optimizer, criterion, lr_scheduler))\n",
    "model = ResNet()#.to(device)\n",
    "optimizer = torch.optim.Adadelta(model.parameters())\n",
    "criterion = nn.CrossEntropyLoss()\n",
    "lr_scheduler = torch.optim.lr_scheduler.ReduceLROnPlateau(\n",
    "    optimizer, mode=\"max\", patience=patience, min_lr=1e-3, cooldown=cooldown, threshold=threshold\n",
    ")\n",
    "models.append(Model(model, optimizer, criterion, lr_scheduler))\n",
    "model = ResNet()#.to(device)\n",
    "optimizer = torch.optim.NAdam(model.parameters(), decoupled_weight_decay=True, weight_decay=1e-4)\n",
    "criterion = nn.CrossEntropyLoss()\n",
    "lr_scheduler = torch.optim.lr_scheduler.ReduceLROnPlateau(\n",
    "    optimizer, mode=\"max\", patience=patience, min_lr=1e-5, cooldown=cooldown, threshold=threshold\n",
    ")\n",
    "models.append(Model(model, optimizer, criterion, lr_scheduler))\n",
    "\n",
    "model = ResNet()#.to(device)\n",
    "optimizer = torch.optim.RAdam(model.parameters(), decoupled_weight_decay=True, weight_decay=1e-4)\n",
    "criterion = nn.CrossEntropyLoss()\n",
    "lr_scheduler = torch.optim.lr_scheduler.ReduceLROnPlateau(\n",
    "    optimizer, mode=\"max\", patience=patience, min_lr=1e-5, cooldown=cooldown, threshold=threshold\n",
    ")\n",
    "models.append(Model(model, optimizer, criterion, lr_scheduler))\n",
    "model = VGG()#.to(device)\n",
    "optimizer = torch.optim.RAdam(model.parameters(), decoupled_weight_decay=True, weight_decay=1e-4)\n",
    "criterion = nn.CrossEntropyLoss()\n",
    "lr_scheduler = torch.optim.lr_scheduler.ReduceLROnPlateau(\n",
    "    optimizer, mode=\"max\", patience=patience, min_lr=1e-5, cooldown=cooldown, threshold=threshold\n",
    ")\n",
    "models.append(Model(model, optimizer, criterion, lr_scheduler))\n",
    "model = LeNet()#.to(device)\n",
    "optimizer = torch.optim.RAdam(model.parameters(), decoupled_weight_decay=True, weight_decay=1e-4)\n",
    "criterion = nn.CrossEntropyLoss()\n",
    "lr_scheduler = torch.optim.lr_scheduler.ReduceLROnPlateau(\n",
    "    optimizer, mode=\"max\", patience=patience, min_lr=1e-5, cooldown=cooldown, threshold=threshold\n",
    ")\n",
    "models.append(Model(model, optimizer, criterion, lr_scheduler))\n",
    "\n",
    "model = ResNet()#.to(device)\n",
    "optimizer = torch.optim.Adamax(model.parameters())\n",
    "criterion = nn.CrossEntropyLoss()\n",
    "lr_scheduler = torch.optim.lr_scheduler.ReduceLROnPlateau(\n",
    "    optimizer, mode=\"max\", patience=patience, min_lr=1e-5, cooldown=cooldown, threshold=threshold\n",
    ")\n",
    "models.append(Model(model, optimizer, criterion, lr_scheduler))\n",
    "model = VGG()#.to(device)\n",
    "optimizer = torch.optim.Adamax(model.parameters(), lr=6e-4)\n",
    "criterion = nn.CrossEntropyLoss()\n",
    "lr_scheduler = torch.optim.lr_scheduler.ReduceLROnPlateau(\n",
    "    optimizer, mode=\"max\", patience=patience, min_lr=1e-5, cooldown=cooldown, threshold=threshold\n",
    ")\n",
    "models.append(Model(model, optimizer, criterion, lr_scheduler))\n",
    "model = LeNet()#.to(device)\n",
    "optimizer = torch.optim.Adamax(model.parameters())\n",
    "criterion = nn.CrossEntropyLoss()\n",
    "lr_scheduler = torch.optim.lr_scheduler.ReduceLROnPlateau(\n",
    "    optimizer, mode=\"max\", patience=patience, min_lr=1e-5, cooldown=cooldown, threshold=threshold\n",
    ")\n",
    "models.append(Model(model, optimizer, criterion, lr_scheduler))\n"
   ]
  },
  {
   "cell_type": "code",
   "execution_count": 7,
   "metadata": {},
   "outputs": [],
   "source": [
    "def print_model_size(model):\n",
    "    param_size = 0\n",
    "    for param in model.parameters():\n",
    "        param_size += param.nelement() * param.element_size()\n",
    "    buffer_size = 0\n",
    "    for buffer in model.buffers():\n",
    "        buffer_size += buffer.nelement() * buffer.element_size()\n",
    "\n",
    "    size_all_mb = (param_size + buffer_size) / 1024**2\n",
    "    print('model size: {:.3f}MB'.format(size_all_mb))"
   ]
  },
  {
   "cell_type": "code",
   "execution_count": 8,
   "metadata": {},
   "outputs": [
    {
     "name": "stdout",
     "output_type": "stream",
     "text": [
      "model size: 0.310MB\n",
      "model size: 492.110MB\n",
      "model size: 89.972MB\n",
      "model size: 89.972MB\n",
      "model size: 492.110MB\n"
     ]
    },
    {
     "data": {
      "text/plain": [
       "[None, None, None, None, None]"
      ]
     },
     "execution_count": 8,
     "metadata": {},
     "output_type": "execute_result"
    }
   ],
   "source": [
    "[print_model_size(model.model) for model in models[::4]]"
   ]
  },
  {
   "cell_type": "code",
   "execution_count": 9,
   "metadata": {},
   "outputs": [],
   "source": [
    "def get_train_transforms():\n",
    "    return A.Compose(\n",
    "        [\n",
    "            A.HorizontalFlip(),\n",
    "            A.Blur(blur_limit=3, p=0.1),\n",
    "            A.MotionBlur(blur_limit=3, p=0.1),\n",
    "            A.MedianBlur(\n",
    "                blur_limit=3,\n",
    "                p=0.1,\n",
    "            ),\n",
    "            A.ToGray(\n",
    "                p=0.3,\n",
    "            ),\n",
    "            A.RandomBrightnessContrast(\n",
    "                p=0.3,\n",
    "            ),\n",
    "            A.RandomGamma(\n",
    "                p=0.3,\n",
    "            ),\n",
    "            A.Normalize(mean=(0.485, 0.456, 0.406), std=(0.229, 0.224, 0.225), max_pixel_value=1),\n",
    "            ToTensorV2(p=1.0),\n",
    "        ]\n",
    "    )\n",
    "\n",
    "\n",
    "def get_test_transforms():\n",
    "    return A.Compose(\n",
    "        [\n",
    "            A.Normalize(mean=(0.485, 0.456, 0.406), std=(0.229, 0.224, 0.225), max_pixel_value=1),\n",
    "            ToTensorV2(p=1),\n",
    "            \n",
    "        ]\n",
    "    )"
   ]
  },
  {
   "cell_type": "code",
   "execution_count": 10,
   "metadata": {},
   "outputs": [],
   "source": [
    "transforms = {\n",
    "    \"train\": get_train_transforms(),\n",
    "    \"val\": get_test_transforms(),\n",
    "}"
   ]
  },
  {
   "cell_type": "code",
   "execution_count": 11,
   "metadata": {},
   "outputs": [],
   "source": [
    "class AlbDataset(Dataset):\n",
    "    def __init__(self, subdata, transforms):\n",
    "        super().__init__()\n",
    "        self.subdata = subdata\n",
    "        self.transforms = transforms\n",
    "\n",
    "    def __getitem__(self, index):\n",
    "        img, target = self.subdata[index]\n",
    "        if self.transforms:\n",
    "            img = self.transforms(image=np.array(img).astype(np.float32) / 255)[\"image\"]\n",
    "        return img, target\n",
    "    def __len__(self):\n",
    "        return len(self.subdata)"
   ]
  },
  {
   "cell_type": "code",
   "execution_count": 12,
   "metadata": {},
   "outputs": [
    {
     "name": "stdout",
     "output_type": "stream",
     "text": [
      "Files already downloaded and verified\n",
      "Files already downloaded and verified\n"
     ]
    }
   ],
   "source": [
    "ds = CIFAR10(\n",
    "    \"./data/train\",\n",
    "    train=True,\n",
    "    download=True,\n",
    ")\n",
    "ds_test = CIFAR10(\n",
    "    \"./data/test\",\n",
    "    train=False,\n",
    "    download=True,\n",
    ")\n",
    "ds_train = AlbDataset(Subset(ds, range(0, 40000)), transforms['train'])\n",
    "ds_val = AlbDataset(Subset(ds, range(40000, 50000)), transforms['val'])\n",
    "batch_size = 512\n",
    "train_data = DataLoader(\n",
    "    ds_train, batch_size, shuffle=True, drop_last=True,pin_memory=True, num_workers=4\n",
    ")\n",
    "# _ = DataLoader(ds_test, batch_size, shuffle=False,pin_memory=True, num_workers=4)\n",
    "val_data = DataLoader(ds_val, batch_size, shuffle=False,pin_memory=True, num_workers=4)"
   ]
  },
  {
   "cell_type": "code",
   "execution_count": null,
   "metadata": {},
   "outputs": [
    {
     "name": "stdout",
     "output_type": "stream",
     "text": [
      "[INFO]: VGG_with_Adamax\n",
      "[INFO]: Epoch 1 of 30\n",
      "Training VGG_with_Adamax\n"
     ]
    },
    {
     "name": "stderr",
     "output_type": "stream",
     "text": [
      "100%|██████████| 78/78 [00:29<00:00,  2.65it/s]"
     ]
    },
    {
     "name": "stdout",
     "output_type": "stream",
     "text": [
      "Validation VGG_with_Adamax\n"
     ]
    },
    {
     "name": "stderr",
     "output_type": "stream",
     "text": [
      "\n",
      "100%|██████████| 20/20 [00:02<00:00,  6.70it/s]\n"
     ]
    },
    {
     "name": "stdout",
     "output_type": "stream",
     "text": [
      "Training loss: 3.130, training acc: 14.690\n",
      "Validation loss: 2.080, validation acc: 20.290\n",
      "Lr: [0.0006]\n",
      "\n",
      "BEST VALIDATION: 20.29\n",
      "\n",
      "SAVING BEST MODEL FOR EPOCH: 1\n",
      "\n",
      "--------------------------------------------------\n",
      "[INFO]: Epoch 2 of 30\n",
      "Training VGG_with_Adamax\n"
     ]
    },
    {
     "name": "stderr",
     "output_type": "stream",
     "text": [
      "100%|██████████| 78/78 [00:28<00:00,  2.77it/s]"
     ]
    },
    {
     "name": "stdout",
     "output_type": "stream",
     "text": [
      "Validation VGG_with_Adamax\n"
     ]
    },
    {
     "name": "stderr",
     "output_type": "stream",
     "text": [
      "\n",
      "100%|██████████| 20/20 [00:03<00:00,  6.33it/s]\n"
     ]
    },
    {
     "name": "stdout",
     "output_type": "stream",
     "text": [
      "Training loss: 2.056, training acc: 18.768\n",
      "Validation loss: 1.890, validation acc: 24.150\n",
      "Lr: [0.0006]\n",
      "\n",
      "BEST VALIDATION: 24.15\n",
      "\n",
      "SAVING BEST MODEL FOR EPOCH: 2\n",
      "\n",
      "--------------------------------------------------\n",
      "[INFO]: Epoch 3 of 30\n",
      "Training VGG_with_Adamax\n"
     ]
    },
    {
     "name": "stderr",
     "output_type": "stream",
     "text": [
      "100%|██████████| 78/78 [00:28<00:00,  2.77it/s]"
     ]
    },
    {
     "name": "stdout",
     "output_type": "stream",
     "text": [
      "Validation VGG_with_Adamax\n"
     ]
    },
    {
     "name": "stderr",
     "output_type": "stream",
     "text": [
      "\n",
      "100%|██████████| 20/20 [00:03<00:00,  6.43it/s]\n"
     ]
    },
    {
     "name": "stdout",
     "output_type": "stream",
     "text": [
      "Training loss: 1.923, training acc: 22.575\n",
      "Validation loss: 1.782, validation acc: 29.350\n",
      "Lr: [0.0006]\n",
      "\n",
      "BEST VALIDATION: 29.349999999999998\n",
      "\n",
      "SAVING BEST MODEL FOR EPOCH: 3\n",
      "\n",
      "--------------------------------------------------\n",
      "[INFO]: Epoch 4 of 30\n",
      "Training VGG_with_Adamax\n"
     ]
    },
    {
     "name": "stderr",
     "output_type": "stream",
     "text": [
      "100%|██████████| 78/78 [00:28<00:00,  2.78it/s]"
     ]
    },
    {
     "name": "stdout",
     "output_type": "stream",
     "text": [
      "Validation VGG_with_Adamax\n"
     ]
    },
    {
     "name": "stderr",
     "output_type": "stream",
     "text": [
      "\n",
      "100%|██████████| 20/20 [00:03<00:00,  6.32it/s]"
     ]
    },
    {
     "name": "stdout",
     "output_type": "stream",
     "text": [
      "Training loss: 1.869, training acc: 26.017\n",
      "Validation loss: 1.865, validation acc: 27.820\n",
      "Lr: [0.0006]\n",
      "--------------------------------------------------\n",
      "[INFO]: Epoch 5 of 30\n",
      "Training VGG_with_Adamax\n"
     ]
    },
    {
     "name": "stderr",
     "output_type": "stream",
     "text": [
      "\n",
      "100%|██████████| 78/78 [00:28<00:00,  2.76it/s]"
     ]
    },
    {
     "name": "stdout",
     "output_type": "stream",
     "text": [
      "Validation VGG_with_Adamax\n"
     ]
    },
    {
     "name": "stderr",
     "output_type": "stream",
     "text": [
      "\n",
      "100%|██████████| 20/20 [00:03<00:00,  5.65it/s]\n"
     ]
    },
    {
     "name": "stdout",
     "output_type": "stream",
     "text": [
      "Training loss: 1.778, training acc: 30.800\n",
      "Validation loss: 1.627, validation acc: 36.630\n",
      "Lr: [0.0006]\n",
      "\n",
      "BEST VALIDATION: 36.63\n",
      "\n",
      "SAVING BEST MODEL FOR EPOCH: 5\n",
      "\n",
      "--------------------------------------------------\n",
      "[INFO]: Epoch 6 of 30\n",
      "Training VGG_with_Adamax\n"
     ]
    },
    {
     "name": "stderr",
     "output_type": "stream",
     "text": [
      "100%|██████████| 78/78 [00:28<00:00,  2.77it/s]"
     ]
    },
    {
     "name": "stdout",
     "output_type": "stream",
     "text": [
      "Validation VGG_with_Adamax\n"
     ]
    },
    {
     "name": "stderr",
     "output_type": "stream",
     "text": [
      "\n",
      "100%|██████████| 20/20 [00:03<00:00,  5.39it/s]\n"
     ]
    },
    {
     "name": "stdout",
     "output_type": "stream",
     "text": [
      "Training loss: 1.624, training acc: 36.688\n",
      "Validation loss: 1.426, validation acc: 45.340\n",
      "Lr: [0.0006]\n",
      "\n",
      "BEST VALIDATION: 45.34\n",
      "\n",
      "SAVING BEST MODEL FOR EPOCH: 6\n",
      "\n",
      "--------------------------------------------------\n",
      "[INFO]: Epoch 7 of 30\n",
      "Training VGG_with_Adamax\n"
     ]
    },
    {
     "name": "stderr",
     "output_type": "stream",
     "text": [
      "100%|██████████| 78/78 [00:28<00:00,  2.78it/s]"
     ]
    },
    {
     "name": "stdout",
     "output_type": "stream",
     "text": [
      "Validation VGG_with_Adamax\n"
     ]
    },
    {
     "name": "stderr",
     "output_type": "stream",
     "text": [
      "\n",
      "100%|██████████| 20/20 [00:03<00:00,  5.71it/s]\n"
     ]
    },
    {
     "name": "stdout",
     "output_type": "stream",
     "text": [
      "Training loss: 1.488, training acc: 43.557\n",
      "Validation loss: 1.270, validation acc: 52.470\n",
      "Lr: [0.0006]\n",
      "\n",
      "BEST VALIDATION: 52.470000000000006\n",
      "\n",
      "SAVING BEST MODEL FOR EPOCH: 7\n",
      "\n",
      "--------------------------------------------------\n",
      "[INFO]: Epoch 8 of 30\n",
      "Training VGG_with_Adamax\n"
     ]
    },
    {
     "name": "stderr",
     "output_type": "stream",
     "text": [
      "100%|██████████| 78/78 [00:27<00:00,  2.80it/s]"
     ]
    },
    {
     "name": "stdout",
     "output_type": "stream",
     "text": [
      "Validation VGG_with_Adamax\n"
     ]
    },
    {
     "name": "stderr",
     "output_type": "stream",
     "text": [
      "\n",
      "100%|██████████| 20/20 [00:03<00:00,  5.62it/s]\n"
     ]
    },
    {
     "name": "stdout",
     "output_type": "stream",
     "text": [
      "Training loss: 1.349, training acc: 50.155\n",
      "Validation loss: 1.162, validation acc: 57.430\n",
      "Lr: [0.0006]\n",
      "\n",
      "BEST VALIDATION: 57.43000000000001\n",
      "\n",
      "SAVING BEST MODEL FOR EPOCH: 8\n",
      "\n",
      "--------------------------------------------------\n",
      "[INFO]: Epoch 9 of 30\n",
      "Training VGG_with_Adamax\n"
     ]
    },
    {
     "name": "stderr",
     "output_type": "stream",
     "text": [
      "100%|██████████| 78/78 [00:27<00:00,  2.81it/s]"
     ]
    },
    {
     "name": "stdout",
     "output_type": "stream",
     "text": [
      "Validation VGG_with_Adamax\n"
     ]
    },
    {
     "name": "stderr",
     "output_type": "stream",
     "text": [
      "\n",
      "100%|██████████| 20/20 [00:03<00:00,  6.04it/s]\n"
     ]
    },
    {
     "name": "stdout",
     "output_type": "stream",
     "text": [
      "Training loss: 1.203, training acc: 56.265\n",
      "Validation loss: 1.080, validation acc: 59.830\n",
      "Lr: [0.0006]\n",
      "\n",
      "BEST VALIDATION: 59.830000000000005\n",
      "\n",
      "SAVING BEST MODEL FOR EPOCH: 9\n",
      "\n",
      "--------------------------------------------------\n",
      "[INFO]: Epoch 10 of 30\n",
      "Training VGG_with_Adamax\n"
     ]
    },
    {
     "name": "stderr",
     "output_type": "stream",
     "text": [
      "100%|██████████| 78/78 [00:27<00:00,  2.81it/s]"
     ]
    },
    {
     "name": "stdout",
     "output_type": "stream",
     "text": [
      "Validation VGG_with_Adamax\n"
     ]
    },
    {
     "name": "stderr",
     "output_type": "stream",
     "text": [
      "\n",
      "100%|██████████| 20/20 [00:03<00:00,  6.04it/s]\n"
     ]
    },
    {
     "name": "stdout",
     "output_type": "stream",
     "text": [
      "Training loss: 1.084, training acc: 61.300\n",
      "Validation loss: 0.950, validation acc: 65.850\n",
      "Lr: [0.0006]\n",
      "\n",
      "BEST VALIDATION: 65.85\n",
      "\n",
      "SAVING BEST MODEL FOR EPOCH: 10\n",
      "\n",
      "--------------------------------------------------\n",
      "[INFO]: Epoch 11 of 30\n",
      "Training VGG_with_Adamax\n"
     ]
    },
    {
     "name": "stderr",
     "output_type": "stream",
     "text": [
      "100%|██████████| 78/78 [00:27<00:00,  2.80it/s]"
     ]
    },
    {
     "name": "stdout",
     "output_type": "stream",
     "text": [
      "Validation VGG_with_Adamax\n"
     ]
    },
    {
     "name": "stderr",
     "output_type": "stream",
     "text": [
      "\n",
      "100%|██████████| 20/20 [00:03<00:00,  5.97it/s]\n"
     ]
    },
    {
     "name": "stdout",
     "output_type": "stream",
     "text": [
      "Training loss: 0.982, training acc: 65.188\n",
      "Validation loss: 0.947, validation acc: 66.000\n",
      "Lr: [0.0006]\n",
      "\n",
      "BEST VALIDATION: 66.0\n",
      "\n",
      "SAVING BEST MODEL FOR EPOCH: 11\n",
      "\n",
      "--------------------------------------------------\n",
      "[INFO]: Epoch 12 of 30\n",
      "Training VGG_with_Adamax\n"
     ]
    },
    {
     "name": "stderr",
     "output_type": "stream",
     "text": [
      "100%|██████████| 78/78 [00:27<00:00,  2.81it/s]"
     ]
    },
    {
     "name": "stdout",
     "output_type": "stream",
     "text": [
      "Validation VGG_with_Adamax\n"
     ]
    },
    {
     "name": "stderr",
     "output_type": "stream",
     "text": [
      "\n",
      "100%|██████████| 20/20 [00:03<00:00,  6.15it/s]\n"
     ]
    },
    {
     "name": "stdout",
     "output_type": "stream",
     "text": [
      "Training loss: 0.919, training acc: 67.703\n",
      "Validation loss: 0.845, validation acc: 70.670\n",
      "Lr: [0.0006]\n",
      "\n",
      "BEST VALIDATION: 70.67\n",
      "\n",
      "SAVING BEST MODEL FOR EPOCH: 12\n",
      "\n",
      "--------------------------------------------------\n",
      "[INFO]: Epoch 13 of 30\n",
      "Training VGG_with_Adamax\n"
     ]
    },
    {
     "name": "stderr",
     "output_type": "stream",
     "text": [
      "100%|██████████| 78/78 [00:27<00:00,  2.82it/s]"
     ]
    },
    {
     "name": "stdout",
     "output_type": "stream",
     "text": [
      "Validation VGG_with_Adamax\n"
     ]
    },
    {
     "name": "stderr",
     "output_type": "stream",
     "text": [
      "\n",
      "100%|██████████| 20/20 [00:03<00:00,  6.16it/s]\n"
     ]
    },
    {
     "name": "stdout",
     "output_type": "stream",
     "text": [
      "Training loss: 0.844, training acc: 70.490\n",
      "Validation loss: 0.746, validation acc: 74.060\n",
      "Lr: [0.0006]\n",
      "\n",
      "BEST VALIDATION: 74.06\n",
      "\n",
      "SAVING BEST MODEL FOR EPOCH: 13\n",
      "\n",
      "--------------------------------------------------\n",
      "[INFO]: Epoch 14 of 30\n",
      "Training VGG_with_Adamax\n"
     ]
    },
    {
     "name": "stderr",
     "output_type": "stream",
     "text": [
      "100%|██████████| 78/78 [00:27<00:00,  2.82it/s]"
     ]
    },
    {
     "name": "stdout",
     "output_type": "stream",
     "text": [
      "Validation VGG_with_Adamax\n"
     ]
    },
    {
     "name": "stderr",
     "output_type": "stream",
     "text": [
      "\n",
      "100%|██████████| 20/20 [00:03<00:00,  6.20it/s]\n"
     ]
    },
    {
     "name": "stdout",
     "output_type": "stream",
     "text": [
      "Training loss: 0.774, training acc: 73.275\n",
      "Validation loss: 0.752, validation acc: 74.420\n",
      "Lr: [0.0006]\n",
      "\n",
      "BEST VALIDATION: 74.42\n",
      "\n",
      "SAVING BEST MODEL FOR EPOCH: 14\n",
      "\n",
      "--------------------------------------------------\n",
      "[INFO]: Epoch 15 of 30\n",
      "Training VGG_with_Adamax\n"
     ]
    },
    {
     "name": "stderr",
     "output_type": "stream",
     "text": [
      "100%|██████████| 78/78 [00:27<00:00,  2.81it/s]"
     ]
    },
    {
     "name": "stdout",
     "output_type": "stream",
     "text": [
      "Validation VGG_with_Adamax\n"
     ]
    },
    {
     "name": "stderr",
     "output_type": "stream",
     "text": [
      "\n",
      "100%|██████████| 20/20 [00:03<00:00,  6.10it/s]"
     ]
    },
    {
     "name": "stdout",
     "output_type": "stream",
     "text": [
      "Training loss: 0.712, training acc: 75.688\n",
      "Validation loss: 0.794, validation acc: 73.930\n",
      "Lr: [0.0006]\n",
      "--------------------------------------------------\n",
      "[INFO]: Epoch 16 of 30\n",
      "Training VGG_with_Adamax\n"
     ]
    },
    {
     "name": "stderr",
     "output_type": "stream",
     "text": [
      "\n",
      "100%|██████████| 78/78 [00:27<00:00,  2.79it/s]"
     ]
    },
    {
     "name": "stdout",
     "output_type": "stream",
     "text": [
      "Validation VGG_with_Adamax\n"
     ]
    },
    {
     "name": "stderr",
     "output_type": "stream",
     "text": [
      "\n",
      "100%|██████████| 20/20 [00:03<00:00,  5.99it/s]\n"
     ]
    },
    {
     "name": "stdout",
     "output_type": "stream",
     "text": [
      "Training loss: 0.658, training acc: 77.680\n",
      "Validation loss: 0.710, validation acc: 76.260\n",
      "Lr: [0.0006]\n",
      "\n",
      "BEST VALIDATION: 76.25999999999999\n",
      "\n",
      "SAVING BEST MODEL FOR EPOCH: 16\n",
      "\n",
      "--------------------------------------------------\n",
      "[INFO]: Epoch 17 of 30\n",
      "Training VGG_with_Adamax\n"
     ]
    },
    {
     "name": "stderr",
     "output_type": "stream",
     "text": [
      "100%|██████████| 78/78 [00:27<00:00,  2.80it/s]"
     ]
    },
    {
     "name": "stdout",
     "output_type": "stream",
     "text": [
      "Validation VGG_with_Adamax\n"
     ]
    },
    {
     "name": "stderr",
     "output_type": "stream",
     "text": [
      "\n",
      "100%|██████████| 20/20 [00:03<00:00,  6.06it/s]\n"
     ]
    },
    {
     "name": "stdout",
     "output_type": "stream",
     "text": [
      "Training loss: 0.615, training acc: 79.125\n",
      "Validation loss: 0.637, validation acc: 78.150\n",
      "Lr: [0.0006]\n",
      "\n",
      "BEST VALIDATION: 78.14999999999999\n",
      "\n",
      "SAVING BEST MODEL FOR EPOCH: 17\n",
      "\n",
      "--------------------------------------------------\n",
      "[INFO]: Epoch 18 of 30\n",
      "Training VGG_with_Adamax\n"
     ]
    },
    {
     "name": "stderr",
     "output_type": "stream",
     "text": [
      "100%|██████████| 78/78 [00:27<00:00,  2.81it/s]"
     ]
    },
    {
     "name": "stdout",
     "output_type": "stream",
     "text": [
      "Validation VGG_with_Adamax\n"
     ]
    },
    {
     "name": "stderr",
     "output_type": "stream",
     "text": [
      "\n",
      "100%|██████████| 20/20 [00:03<00:00,  5.79it/s]\n"
     ]
    },
    {
     "name": "stdout",
     "output_type": "stream",
     "text": [
      "Training loss: 0.571, training acc: 80.472\n",
      "Validation loss: 0.637, validation acc: 78.830\n",
      "Lr: [0.0006]\n",
      "\n",
      "BEST VALIDATION: 78.83\n",
      "\n",
      "SAVING BEST MODEL FOR EPOCH: 18\n",
      "\n",
      "--------------------------------------------------\n",
      "[INFO]: Epoch 19 of 30\n",
      "Training VGG_with_Adamax\n"
     ]
    },
    {
     "name": "stderr",
     "output_type": "stream",
     "text": [
      "100%|██████████| 78/78 [00:27<00:00,  2.82it/s]"
     ]
    },
    {
     "name": "stdout",
     "output_type": "stream",
     "text": [
      "Validation VGG_with_Adamax\n"
     ]
    },
    {
     "name": "stderr",
     "output_type": "stream",
     "text": [
      "\n",
      "100%|██████████| 20/20 [00:03<00:00,  5.89it/s]\n"
     ]
    },
    {
     "name": "stdout",
     "output_type": "stream",
     "text": [
      "Training loss: 0.535, training acc: 82.093\n",
      "Validation loss: 0.593, validation acc: 80.460\n",
      "Lr: [0.0006]\n",
      "\n",
      "BEST VALIDATION: 80.46\n",
      "\n",
      "SAVING BEST MODEL FOR EPOCH: 19\n",
      "\n",
      "--------------------------------------------------\n",
      "[INFO]: Epoch 20 of 30\n",
      "Training VGG_with_Adamax\n"
     ]
    },
    {
     "name": "stderr",
     "output_type": "stream",
     "text": [
      "100%|██████████| 78/78 [00:27<00:00,  2.81it/s]"
     ]
    },
    {
     "name": "stdout",
     "output_type": "stream",
     "text": [
      "Validation VGG_with_Adamax\n"
     ]
    },
    {
     "name": "stderr",
     "output_type": "stream",
     "text": [
      "\n",
      "100%|██████████| 20/20 [00:03<00:00,  5.67it/s]"
     ]
    },
    {
     "name": "stdout",
     "output_type": "stream",
     "text": [
      "Training loss: 0.492, training acc: 83.332\n",
      "Validation loss: 0.621, validation acc: 78.780\n",
      "Lr: [0.0006]\n",
      "--------------------------------------------------\n",
      "[INFO]: Epoch 21 of 30\n",
      "Training VGG_with_Adamax\n"
     ]
    },
    {
     "name": "stderr",
     "output_type": "stream",
     "text": [
      "\n",
      "100%|██████████| 78/78 [00:27<00:00,  2.80it/s]"
     ]
    },
    {
     "name": "stdout",
     "output_type": "stream",
     "text": [
      "Validation VGG_with_Adamax\n"
     ]
    },
    {
     "name": "stderr",
     "output_type": "stream",
     "text": [
      "\n",
      "100%|██████████| 20/20 [00:03<00:00,  5.67it/s]"
     ]
    },
    {
     "name": "stdout",
     "output_type": "stream",
     "text": [
      "Training loss: 0.460, training acc: 84.640\n",
      "Validation loss: 0.602, validation acc: 80.000\n",
      "Lr: [0.0006]\n",
      "--------------------------------------------------\n",
      "[INFO]: Epoch 22 of 30\n",
      "Training VGG_with_Adamax\n"
     ]
    },
    {
     "name": "stderr",
     "output_type": "stream",
     "text": [
      "\n",
      "100%|██████████| 78/78 [00:28<00:00,  2.77it/s]"
     ]
    },
    {
     "name": "stdout",
     "output_type": "stream",
     "text": [
      "Validation VGG_with_Adamax\n"
     ]
    },
    {
     "name": "stderr",
     "output_type": "stream",
     "text": [
      "\n",
      "100%|██████████| 20/20 [00:03<00:00,  5.58it/s]\n"
     ]
    },
    {
     "name": "stdout",
     "output_type": "stream",
     "text": [
      "Training loss: 0.435, training acc: 85.317\n",
      "Validation loss: 0.624, validation acc: 80.630\n",
      "Lr: [0.0006]\n",
      "\n",
      "BEST VALIDATION: 80.63\n",
      "\n",
      "SAVING BEST MODEL FOR EPOCH: 22\n",
      "\n",
      "--------------------------------------------------\n",
      "[INFO]: Epoch 23 of 30\n",
      "Training VGG_with_Adamax\n"
     ]
    },
    {
     "name": "stderr",
     "output_type": "stream",
     "text": [
      "100%|██████████| 78/78 [00:27<00:00,  2.79it/s]"
     ]
    },
    {
     "name": "stdout",
     "output_type": "stream",
     "text": [
      "Validation VGG_with_Adamax\n"
     ]
    },
    {
     "name": "stderr",
     "output_type": "stream",
     "text": [
      "\n",
      "100%|██████████| 20/20 [00:03<00:00,  5.47it/s]\n"
     ]
    },
    {
     "name": "stdout",
     "output_type": "stream",
     "text": [
      "Training loss: 0.393, training acc: 86.895\n",
      "Validation loss: 0.572, validation acc: 81.960\n",
      "Lr: [0.0006]\n",
      "\n",
      "BEST VALIDATION: 81.96\n",
      "\n",
      "SAVING BEST MODEL FOR EPOCH: 23\n",
      "\n",
      "--------------------------------------------------\n",
      "[INFO]: Epoch 24 of 30\n",
      "Training VGG_with_Adamax\n"
     ]
    },
    {
     "name": "stderr",
     "output_type": "stream",
     "text": [
      "100%|██████████| 78/78 [00:28<00:00,  2.78it/s]"
     ]
    },
    {
     "name": "stdout",
     "output_type": "stream",
     "text": [
      "Validation VGG_with_Adamax\n"
     ]
    },
    {
     "name": "stderr",
     "output_type": "stream",
     "text": [
      "\n",
      "100%|██████████| 20/20 [00:03<00:00,  5.52it/s]"
     ]
    },
    {
     "name": "stdout",
     "output_type": "stream",
     "text": [
      "Training loss: 0.364, training acc: 87.873\n",
      "Validation loss: 0.612, validation acc: 80.870\n",
      "Lr: [0.0006]\n",
      "--------------------------------------------------\n",
      "[INFO]: Epoch 25 of 30\n",
      "Training VGG_with_Adamax\n"
     ]
    },
    {
     "name": "stderr",
     "output_type": "stream",
     "text": [
      "\n",
      "100%|██████████| 78/78 [00:28<00:00,  2.79it/s]"
     ]
    },
    {
     "name": "stdout",
     "output_type": "stream",
     "text": [
      "Validation VGG_with_Adamax\n"
     ]
    },
    {
     "name": "stderr",
     "output_type": "stream",
     "text": [
      "\n",
      "100%|██████████| 20/20 [00:03<00:00,  5.69it/s]\n"
     ]
    },
    {
     "name": "stdout",
     "output_type": "stream",
     "text": [
      "Training loss: 0.330, training acc: 88.725\n",
      "Validation loss: 0.556, validation acc: 82.170\n",
      "Lr: [0.0006]\n",
      "\n",
      "BEST VALIDATION: 82.17\n",
      "\n",
      "SAVING BEST MODEL FOR EPOCH: 25\n",
      "\n",
      "--------------------------------------------------\n",
      "[INFO]: Epoch 26 of 30\n",
      "Training VGG_with_Adamax\n"
     ]
    },
    {
     "name": "stderr",
     "output_type": "stream",
     "text": [
      "100%|██████████| 78/78 [00:27<00:00,  2.81it/s]"
     ]
    },
    {
     "name": "stdout",
     "output_type": "stream",
     "text": [
      "Validation VGG_with_Adamax\n"
     ]
    },
    {
     "name": "stderr",
     "output_type": "stream",
     "text": [
      "\n",
      "100%|██████████| 20/20 [00:03<00:00,  5.88it/s]\n"
     ]
    },
    {
     "name": "stdout",
     "output_type": "stream",
     "text": [
      "Training loss: 0.329, training acc: 88.942\n",
      "Validation loss: 0.555, validation acc: 82.420\n",
      "Lr: [0.0006]\n",
      "\n",
      "BEST VALIDATION: 82.42\n",
      "\n",
      "SAVING BEST MODEL FOR EPOCH: 26\n",
      "\n",
      "--------------------------------------------------\n",
      "[INFO]: Epoch 27 of 30\n",
      "Training VGG_with_Adamax\n"
     ]
    },
    {
     "name": "stderr",
     "output_type": "stream",
     "text": [
      "100%|██████████| 78/78 [00:27<00:00,  2.82it/s]"
     ]
    },
    {
     "name": "stdout",
     "output_type": "stream",
     "text": [
      "Validation VGG_with_Adamax\n"
     ]
    },
    {
     "name": "stderr",
     "output_type": "stream",
     "text": [
      "\n",
      "100%|██████████| 20/20 [00:03<00:00,  5.98it/s]"
     ]
    },
    {
     "name": "stdout",
     "output_type": "stream",
     "text": [
      "Training loss: 0.297, training acc: 89.957\n",
      "Validation loss: 0.607, validation acc: 81.430\n",
      "Lr: [0.0006]\n",
      "--------------------------------------------------\n",
      "[INFO]: Epoch 28 of 30\n",
      "Training VGG_with_Adamax\n"
     ]
    },
    {
     "name": "stderr",
     "output_type": "stream",
     "text": [
      "\n",
      "100%|██████████| 78/78 [00:27<00:00,  2.79it/s]"
     ]
    },
    {
     "name": "stdout",
     "output_type": "stream",
     "text": [
      "Validation VGG_with_Adamax\n"
     ]
    },
    {
     "name": "stderr",
     "output_type": "stream",
     "text": [
      "\n",
      "100%|██████████| 20/20 [00:03<00:00,  6.07it/s]\n"
     ]
    },
    {
     "name": "stdout",
     "output_type": "stream",
     "text": [
      "Training loss: 0.273, training acc: 90.705\n",
      "Validation loss: 0.555, validation acc: 83.150\n",
      "Lr: [0.0006]\n",
      "\n",
      "BEST VALIDATION: 83.15\n",
      "\n",
      "SAVING BEST MODEL FOR EPOCH: 28\n",
      "\n",
      "--------------------------------------------------\n",
      "[INFO]: Epoch 29 of 30\n",
      "Training VGG_with_Adamax\n"
     ]
    },
    {
     "name": "stderr",
     "output_type": "stream",
     "text": [
      "100%|██████████| 78/78 [00:27<00:00,  2.80it/s]"
     ]
    },
    {
     "name": "stdout",
     "output_type": "stream",
     "text": [
      "Validation VGG_with_Adamax\n"
     ]
    },
    {
     "name": "stderr",
     "output_type": "stream",
     "text": [
      "\n",
      "100%|██████████| 20/20 [00:03<00:00,  6.19it/s]"
     ]
    },
    {
     "name": "stdout",
     "output_type": "stream",
     "text": [
      "Training loss: 0.256, training acc: 91.373\n",
      "Validation loss: 0.582, validation acc: 82.400\n",
      "Lr: [0.0006]\n",
      "--------------------------------------------------\n",
      "[INFO]: Epoch 30 of 30\n",
      "Training VGG_with_Adamax\n"
     ]
    },
    {
     "name": "stderr",
     "output_type": "stream",
     "text": [
      "\n",
      "100%|██████████| 78/78 [00:27<00:00,  2.79it/s]"
     ]
    },
    {
     "name": "stdout",
     "output_type": "stream",
     "text": [
      "Validation VGG_with_Adamax\n"
     ]
    },
    {
     "name": "stderr",
     "output_type": "stream",
     "text": [
      "\n",
      "100%|██████████| 20/20 [00:03<00:00,  6.13it/s]\n"
     ]
    },
    {
     "name": "stdout",
     "output_type": "stream",
     "text": [
      "Training loss: 0.255, training acc: 91.445\n",
      "Validation loss: 0.632, validation acc: 81.860\n",
      "Lr: [0.0006]\n",
      "--------------------------------------------------\n",
      "[INFO]: LeNet_with_Adamax\n",
      "[INFO]: Epoch 1 of 30\n",
      "Training LeNet_with_Adamax\n"
     ]
    },
    {
     "name": "stderr",
     "output_type": "stream",
     "text": [
      "100%|██████████| 78/78 [00:08<00:00,  9.12it/s]"
     ]
    },
    {
     "name": "stdout",
     "output_type": "stream",
     "text": [
      "Validation LeNet_with_Adamax\n"
     ]
    },
    {
     "name": "stderr",
     "output_type": "stream",
     "text": [
      "\n",
      "100%|██████████| 20/20 [00:01<00:00, 10.36it/s]"
     ]
    },
    {
     "name": "stdout",
     "output_type": "stream",
     "text": [
      "Training loss: 1.991, training acc: 25.967\n",
      "Validation loss: 1.648, validation acc: 41.090\n",
      "Lr: [0.002]\n",
      "\n",
      "BEST VALIDATION: 41.089999999999996\n",
      "\n",
      "SAVING BEST MODEL FOR EPOCH: 1\n",
      "\n",
      "--------------------------------------------------\n",
      "[INFO]: Epoch 2 of 30\n",
      "Training LeNet_with_Adamax\n"
     ]
    },
    {
     "name": "stderr",
     "output_type": "stream",
     "text": [
      "\n",
      "100%|██████████| 78/78 [00:08<00:00,  9.44it/s]"
     ]
    },
    {
     "name": "stdout",
     "output_type": "stream",
     "text": [
      "Validation LeNet_with_Adamax\n"
     ]
    },
    {
     "name": "stderr",
     "output_type": "stream",
     "text": [
      "\n",
      "100%|██████████| 20/20 [00:02<00:00,  9.88it/s]"
     ]
    },
    {
     "name": "stdout",
     "output_type": "stream",
     "text": [
      "Training loss: 1.735, training acc: 35.895\n",
      "Validation loss: 1.513, validation acc: 45.210\n",
      "Lr: [0.002]\n",
      "\n",
      "BEST VALIDATION: 45.21\n",
      "\n",
      "SAVING BEST MODEL FOR EPOCH: 2\n",
      "\n",
      "--------------------------------------------------\n",
      "[INFO]: Epoch 3 of 30\n",
      "Training LeNet_with_Adamax\n"
     ]
    },
    {
     "name": "stderr",
     "output_type": "stream",
     "text": [
      "\n",
      "100%|██████████| 78/78 [00:08<00:00,  9.61it/s]"
     ]
    },
    {
     "name": "stdout",
     "output_type": "stream",
     "text": [
      "Validation LeNet_with_Adamax\n"
     ]
    },
    {
     "name": "stderr",
     "output_type": "stream",
     "text": [
      "\n",
      "100%|██████████| 20/20 [00:01<00:00, 10.06it/s]"
     ]
    },
    {
     "name": "stdout",
     "output_type": "stream",
     "text": [
      "Training loss: 1.636, training acc: 40.435\n",
      "Validation loss: 1.431, validation acc: 48.230\n",
      "Lr: [0.002]\n",
      "\n",
      "BEST VALIDATION: 48.230000000000004\n",
      "\n",
      "SAVING BEST MODEL FOR EPOCH: 3\n",
      "\n",
      "--------------------------------------------------\n",
      "[INFO]: Epoch 4 of 30\n",
      "Training LeNet_with_Adamax\n"
     ]
    },
    {
     "name": "stderr",
     "output_type": "stream",
     "text": [
      "\n",
      "100%|██████████| 78/78 [00:07<00:00,  9.84it/s]"
     ]
    },
    {
     "name": "stdout",
     "output_type": "stream",
     "text": [
      "Validation LeNet_with_Adamax\n"
     ]
    },
    {
     "name": "stderr",
     "output_type": "stream",
     "text": [
      "\n",
      "100%|██████████| 20/20 [00:01<00:00, 10.32it/s]"
     ]
    },
    {
     "name": "stdout",
     "output_type": "stream",
     "text": [
      "Training loss: 1.559, training acc: 43.557\n",
      "Validation loss: 1.351, validation acc: 51.740\n",
      "Lr: [0.002]\n",
      "\n",
      "BEST VALIDATION: 51.739999999999995\n",
      "\n",
      "SAVING BEST MODEL FOR EPOCH: 4\n",
      "\n",
      "--------------------------------------------------\n",
      "[INFO]: Epoch 5 of 30\n",
      "Training LeNet_with_Adamax\n"
     ]
    },
    {
     "name": "stderr",
     "output_type": "stream",
     "text": [
      "\n",
      "100%|██████████| 78/78 [00:08<00:00,  9.24it/s]"
     ]
    },
    {
     "name": "stdout",
     "output_type": "stream",
     "text": [
      "Validation LeNet_with_Adamax\n"
     ]
    },
    {
     "name": "stderr",
     "output_type": "stream",
     "text": [
      "\n",
      "100%|██████████| 20/20 [00:01<00:00, 10.21it/s]"
     ]
    },
    {
     "name": "stdout",
     "output_type": "stream",
     "text": [
      "Training loss: 1.500, training acc: 45.740\n",
      "Validation loss: 1.299, validation acc: 53.200\n",
      "Lr: [0.002]\n",
      "\n",
      "BEST VALIDATION: 53.2\n",
      "\n",
      "SAVING BEST MODEL FOR EPOCH: 5\n",
      "\n",
      "--------------------------------------------------\n",
      "[INFO]: Epoch 6 of 30\n",
      "Training LeNet_with_Adamax\n"
     ]
    },
    {
     "name": "stderr",
     "output_type": "stream",
     "text": [
      "\n",
      "100%|██████████| 78/78 [00:08<00:00,  9.43it/s]"
     ]
    },
    {
     "name": "stdout",
     "output_type": "stream",
     "text": [
      "Validation LeNet_with_Adamax\n"
     ]
    },
    {
     "name": "stderr",
     "output_type": "stream",
     "text": [
      "\n",
      "100%|██████████| 20/20 [00:01<00:00, 10.81it/s]"
     ]
    },
    {
     "name": "stdout",
     "output_type": "stream",
     "text": [
      "Training loss: 1.466, training acc: 47.462\n",
      "Validation loss: 1.260, validation acc: 55.130\n",
      "Lr: [0.002]\n",
      "\n",
      "BEST VALIDATION: 55.13\n",
      "\n",
      "SAVING BEST MODEL FOR EPOCH: 6\n",
      "\n",
      "--------------------------------------------------\n",
      "[INFO]: Epoch 7 of 30\n",
      "Training LeNet_with_Adamax\n"
     ]
    },
    {
     "name": "stderr",
     "output_type": "stream",
     "text": [
      "\n",
      "100%|██████████| 78/78 [00:08<00:00,  9.22it/s]"
     ]
    },
    {
     "name": "stdout",
     "output_type": "stream",
     "text": [
      "Validation LeNet_with_Adamax\n"
     ]
    },
    {
     "name": "stderr",
     "output_type": "stream",
     "text": [
      "\n",
      "100%|██████████| 20/20 [00:02<00:00,  9.88it/s]"
     ]
    },
    {
     "name": "stdout",
     "output_type": "stream",
     "text": [
      "Training loss: 1.420, training acc: 49.310\n",
      "Validation loss: 1.225, validation acc: 56.570\n",
      "Lr: [0.002]\n",
      "\n",
      "BEST VALIDATION: 56.57\n",
      "\n",
      "SAVING BEST MODEL FOR EPOCH: 7\n",
      "\n",
      "--------------------------------------------------\n",
      "[INFO]: Epoch 8 of 30\n",
      "Training LeNet_with_Adamax\n"
     ]
    },
    {
     "name": "stderr",
     "output_type": "stream",
     "text": [
      "\n",
      "100%|██████████| 78/78 [00:08<00:00,  9.23it/s]"
     ]
    },
    {
     "name": "stdout",
     "output_type": "stream",
     "text": [
      "Validation LeNet_with_Adamax\n"
     ]
    },
    {
     "name": "stderr",
     "output_type": "stream",
     "text": [
      "\n",
      "100%|██████████| 20/20 [00:01<00:00, 10.78it/s]"
     ]
    },
    {
     "name": "stdout",
     "output_type": "stream",
     "text": [
      "Training loss: 1.402, training acc: 50.438\n",
      "Validation loss: 1.201, validation acc: 57.280\n",
      "Lr: [0.002]\n",
      "\n",
      "BEST VALIDATION: 57.28\n",
      "\n",
      "SAVING BEST MODEL FOR EPOCH: 8\n",
      "\n",
      "--------------------------------------------------\n",
      "[INFO]: Epoch 9 of 30\n",
      "Training LeNet_with_Adamax\n"
     ]
    },
    {
     "name": "stderr",
     "output_type": "stream",
     "text": [
      "\n",
      "100%|██████████| 78/78 [00:08<00:00,  9.12it/s]"
     ]
    },
    {
     "name": "stdout",
     "output_type": "stream",
     "text": [
      "Validation LeNet_with_Adamax\n"
     ]
    },
    {
     "name": "stderr",
     "output_type": "stream",
     "text": [
      "\n",
      "100%|██████████| 20/20 [00:01<00:00, 10.18it/s]"
     ]
    },
    {
     "name": "stdout",
     "output_type": "stream",
     "text": [
      "Training loss: 1.374, training acc: 51.397\n",
      "Validation loss: 1.173, validation acc: 58.210\n",
      "Lr: [0.002]\n",
      "\n",
      "BEST VALIDATION: 58.209999999999994\n",
      "\n",
      "SAVING BEST MODEL FOR EPOCH: 9\n",
      "\n",
      "--------------------------------------------------\n",
      "[INFO]: Epoch 10 of 30\n",
      "Training LeNet_with_Adamax\n"
     ]
    },
    {
     "name": "stderr",
     "output_type": "stream",
     "text": [
      "\n",
      "100%|██████████| 78/78 [00:08<00:00,  9.49it/s]"
     ]
    },
    {
     "name": "stdout",
     "output_type": "stream",
     "text": [
      "Validation LeNet_with_Adamax\n"
     ]
    },
    {
     "name": "stderr",
     "output_type": "stream",
     "text": [
      "\n",
      "100%|██████████| 20/20 [00:01<00:00, 10.10it/s]"
     ]
    },
    {
     "name": "stdout",
     "output_type": "stream",
     "text": [
      "Training loss: 1.355, training acc: 52.153\n",
      "Validation loss: 1.161, validation acc: 58.540\n",
      "Lr: [0.002]\n",
      "\n",
      "BEST VALIDATION: 58.540000000000006\n",
      "\n",
      "SAVING BEST MODEL FOR EPOCH: 10\n",
      "\n",
      "--------------------------------------------------\n",
      "[INFO]: Epoch 11 of 30\n",
      "Training LeNet_with_Adamax\n"
     ]
    },
    {
     "name": "stderr",
     "output_type": "stream",
     "text": [
      "\n",
      "100%|██████████| 78/78 [00:07<00:00,  9.77it/s]"
     ]
    },
    {
     "name": "stdout",
     "output_type": "stream",
     "text": [
      "Validation LeNet_with_Adamax\n"
     ]
    },
    {
     "name": "stderr",
     "output_type": "stream",
     "text": [
      "\n",
      "100%|██████████| 20/20 [00:01<00:00, 10.62it/s]"
     ]
    },
    {
     "name": "stdout",
     "output_type": "stream",
     "text": [
      "Training loss: 1.326, training acc: 53.317\n",
      "Validation loss: 1.137, validation acc: 59.610\n",
      "Lr: [0.002]\n",
      "\n",
      "BEST VALIDATION: 59.61\n",
      "\n",
      "SAVING BEST MODEL FOR EPOCH: 11\n",
      "\n",
      "--------------------------------------------------\n",
      "[INFO]: Epoch 12 of 30\n",
      "Training LeNet_with_Adamax\n"
     ]
    },
    {
     "name": "stderr",
     "output_type": "stream",
     "text": [
      "\n",
      "100%|██████████| 78/78 [00:08<00:00,  9.75it/s]"
     ]
    },
    {
     "name": "stdout",
     "output_type": "stream",
     "text": [
      "Validation LeNet_with_Adamax\n"
     ]
    },
    {
     "name": "stderr",
     "output_type": "stream",
     "text": [
      "\n",
      "100%|██████████| 20/20 [00:01<00:00, 10.64it/s]"
     ]
    },
    {
     "name": "stdout",
     "output_type": "stream",
     "text": [
      "Training loss: 1.309, training acc: 54.093\n",
      "Validation loss: 1.112, validation acc: 60.340\n",
      "Lr: [0.002]\n",
      "\n",
      "BEST VALIDATION: 60.34\n",
      "\n",
      "SAVING BEST MODEL FOR EPOCH: 12\n",
      "\n",
      "--------------------------------------------------\n",
      "[INFO]: Epoch 13 of 30\n",
      "Training LeNet_with_Adamax\n"
     ]
    },
    {
     "name": "stderr",
     "output_type": "stream",
     "text": [
      "\n",
      "100%|██████████| 78/78 [00:08<00:00,  9.38it/s]"
     ]
    },
    {
     "name": "stdout",
     "output_type": "stream",
     "text": [
      "Validation LeNet_with_Adamax\n"
     ]
    },
    {
     "name": "stderr",
     "output_type": "stream",
     "text": [
      "\n",
      "100%|██████████| 20/20 [00:02<00:00,  9.97it/s]"
     ]
    },
    {
     "name": "stdout",
     "output_type": "stream",
     "text": [
      "Training loss: 1.297, training acc: 54.182\n",
      "Validation loss: 1.099, validation acc: 60.770\n",
      "Lr: [0.002]\n",
      "\n",
      "BEST VALIDATION: 60.77\n",
      "\n",
      "SAVING BEST MODEL FOR EPOCH: 13\n",
      "\n",
      "--------------------------------------------------\n",
      "[INFO]: Epoch 14 of 30\n",
      "Training LeNet_with_Adamax\n"
     ]
    },
    {
     "name": "stderr",
     "output_type": "stream",
     "text": [
      "\n",
      "100%|██████████| 78/78 [00:08<00:00,  9.16it/s]"
     ]
    },
    {
     "name": "stdout",
     "output_type": "stream",
     "text": [
      "Validation LeNet_with_Adamax\n"
     ]
    },
    {
     "name": "stderr",
     "output_type": "stream",
     "text": [
      "\n",
      "100%|██████████| 20/20 [00:02<00:00,  9.88it/s]"
     ]
    },
    {
     "name": "stdout",
     "output_type": "stream",
     "text": [
      "Training loss: 1.286, training acc: 54.825\n",
      "Validation loss: 1.092, validation acc: 61.530\n",
      "Lr: [0.002]\n",
      "\n",
      "BEST VALIDATION: 61.529999999999994\n",
      "\n",
      "SAVING BEST MODEL FOR EPOCH: 14\n",
      "\n",
      "--------------------------------------------------\n",
      "[INFO]: Epoch 15 of 30\n",
      "Training LeNet_with_Adamax\n"
     ]
    },
    {
     "name": "stderr",
     "output_type": "stream",
     "text": [
      "\n",
      "100%|██████████| 78/78 [00:07<00:00,  9.83it/s]"
     ]
    },
    {
     "name": "stdout",
     "output_type": "stream",
     "text": [
      "Validation LeNet_with_Adamax\n"
     ]
    },
    {
     "name": "stderr",
     "output_type": "stream",
     "text": [
      "\n",
      "100%|██████████| 20/20 [00:01<00:00, 10.32it/s]"
     ]
    },
    {
     "name": "stdout",
     "output_type": "stream",
     "text": [
      "Training loss: 1.274, training acc: 55.505\n",
      "Validation loss: 1.092, validation acc: 60.600\n",
      "Lr: [0.002]\n",
      "--------------------------------------------------\n",
      "[INFO]: Epoch 16 of 30\n",
      "Training LeNet_with_Adamax\n"
     ]
    },
    {
     "name": "stderr",
     "output_type": "stream",
     "text": [
      "\n",
      "100%|██████████| 78/78 [00:08<00:00,  9.12it/s]"
     ]
    },
    {
     "name": "stdout",
     "output_type": "stream",
     "text": [
      "Validation LeNet_with_Adamax\n"
     ]
    },
    {
     "name": "stderr",
     "output_type": "stream",
     "text": [
      "\n",
      "100%|██████████| 20/20 [00:01<00:00, 10.78it/s]"
     ]
    },
    {
     "name": "stdout",
     "output_type": "stream",
     "text": [
      "Training loss: 1.260, training acc: 55.913\n",
      "Validation loss: 1.091, validation acc: 61.410\n",
      "Lr: [0.002]\n",
      "--------------------------------------------------\n",
      "[INFO]: Epoch 17 of 30\n",
      "Training LeNet_with_Adamax\n"
     ]
    },
    {
     "name": "stderr",
     "output_type": "stream",
     "text": [
      "\n",
      "100%|██████████| 78/78 [00:08<00:00,  8.78it/s]"
     ]
    },
    {
     "name": "stdout",
     "output_type": "stream",
     "text": [
      "Validation LeNet_with_Adamax\n"
     ]
    },
    {
     "name": "stderr",
     "output_type": "stream",
     "text": [
      "\n",
      "100%|██████████| 20/20 [00:02<00:00,  9.85it/s]"
     ]
    },
    {
     "name": "stdout",
     "output_type": "stream",
     "text": [
      "Training loss: 1.243, training acc: 56.490\n",
      "Validation loss: 1.062, validation acc: 61.650\n",
      "Lr: [0.002]\n",
      "\n",
      "BEST VALIDATION: 61.650000000000006\n",
      "\n",
      "SAVING BEST MODEL FOR EPOCH: 17\n",
      "\n",
      "--------------------------------------------------\n",
      "[INFO]: Epoch 18 of 30\n",
      "Training LeNet_with_Adamax\n"
     ]
    },
    {
     "name": "stderr",
     "output_type": "stream",
     "text": [
      "\n",
      "100%|██████████| 78/78 [00:08<00:00,  9.15it/s]"
     ]
    },
    {
     "name": "stdout",
     "output_type": "stream",
     "text": [
      "Validation LeNet_with_Adamax\n"
     ]
    },
    {
     "name": "stderr",
     "output_type": "stream",
     "text": [
      "\n",
      "100%|██████████| 20/20 [00:02<00:00,  9.94it/s]"
     ]
    },
    {
     "name": "stdout",
     "output_type": "stream",
     "text": [
      "Training loss: 1.237, training acc: 56.727\n",
      "Validation loss: 1.060, validation acc: 62.200\n",
      "Lr: [0.002]\n",
      "\n",
      "BEST VALIDATION: 62.2\n",
      "\n",
      "SAVING BEST MODEL FOR EPOCH: 18\n",
      "\n",
      "--------------------------------------------------\n",
      "[INFO]: Epoch 19 of 30\n",
      "Training LeNet_with_Adamax\n"
     ]
    },
    {
     "name": "stderr",
     "output_type": "stream",
     "text": [
      "\n",
      "100%|██████████| 78/78 [00:08<00:00,  9.52it/s]"
     ]
    },
    {
     "name": "stdout",
     "output_type": "stream",
     "text": [
      "Validation LeNet_with_Adamax\n"
     ]
    },
    {
     "name": "stderr",
     "output_type": "stream",
     "text": [
      "\n",
      "100%|██████████| 20/20 [00:01<00:00, 10.39it/s]"
     ]
    },
    {
     "name": "stdout",
     "output_type": "stream",
     "text": [
      "Training loss: 1.228, training acc: 56.793\n",
      "Validation loss: 1.037, validation acc: 63.060\n",
      "Lr: [0.002]\n",
      "\n",
      "BEST VALIDATION: 63.06\n",
      "\n",
      "SAVING BEST MODEL FOR EPOCH: 19\n",
      "\n",
      "--------------------------------------------------\n",
      "[INFO]: Epoch 20 of 30\n",
      "Training LeNet_with_Adamax\n"
     ]
    },
    {
     "name": "stderr",
     "output_type": "stream",
     "text": [
      "\n",
      "100%|██████████| 78/78 [00:08<00:00,  9.14it/s]"
     ]
    },
    {
     "name": "stdout",
     "output_type": "stream",
     "text": [
      "Validation LeNet_with_Adamax\n"
     ]
    },
    {
     "name": "stderr",
     "output_type": "stream",
     "text": [
      "\n",
      "100%|██████████| 20/20 [00:02<00:00,  9.73it/s]"
     ]
    },
    {
     "name": "stdout",
     "output_type": "stream",
     "text": [
      "Training loss: 1.213, training acc: 57.322\n",
      "Validation loss: 1.036, validation acc: 63.070\n",
      "Lr: [0.002]\n",
      "\n",
      "BEST VALIDATION: 63.07000000000001\n",
      "\n",
      "SAVING BEST MODEL FOR EPOCH: 20\n",
      "\n",
      "--------------------------------------------------\n",
      "[INFO]: Epoch 21 of 30\n",
      "Training LeNet_with_Adamax\n"
     ]
    },
    {
     "name": "stderr",
     "output_type": "stream",
     "text": [
      "\n",
      "100%|██████████| 78/78 [00:08<00:00,  9.33it/s]"
     ]
    },
    {
     "name": "stdout",
     "output_type": "stream",
     "text": [
      "Validation LeNet_with_Adamax\n"
     ]
    },
    {
     "name": "stderr",
     "output_type": "stream",
     "text": [
      "\n",
      "100%|██████████| 20/20 [00:01<00:00, 10.18it/s]"
     ]
    },
    {
     "name": "stdout",
     "output_type": "stream",
     "text": [
      "Training loss: 1.215, training acc: 57.355\n",
      "Validation loss: 1.019, validation acc: 63.920\n",
      "Lr: [0.002]\n",
      "\n",
      "BEST VALIDATION: 63.92\n",
      "\n",
      "SAVING BEST MODEL FOR EPOCH: 21\n",
      "\n",
      "--------------------------------------------------\n",
      "[INFO]: Epoch 22 of 30\n",
      "Training LeNet_with_Adamax\n"
     ]
    },
    {
     "name": "stderr",
     "output_type": "stream",
     "text": [
      "\n",
      "100%|██████████| 78/78 [00:08<00:00,  9.03it/s]"
     ]
    },
    {
     "name": "stdout",
     "output_type": "stream",
     "text": [
      "Validation LeNet_with_Adamax\n"
     ]
    },
    {
     "name": "stderr",
     "output_type": "stream",
     "text": [
      "\n",
      "100%|██████████| 20/20 [00:02<00:00,  9.41it/s]"
     ]
    },
    {
     "name": "stdout",
     "output_type": "stream",
     "text": [
      "Training loss: 1.204, training acc: 57.635\n",
      "Validation loss: 1.018, validation acc: 64.080\n",
      "Lr: [0.002]\n",
      "\n",
      "BEST VALIDATION: 64.08\n",
      "\n",
      "SAVING BEST MODEL FOR EPOCH: 22\n",
      "\n",
      "--------------------------------------------------\n",
      "[INFO]: Epoch 23 of 30\n",
      "Training LeNet_with_Adamax\n"
     ]
    },
    {
     "name": "stderr",
     "output_type": "stream",
     "text": [
      "\n",
      "100%|██████████| 78/78 [00:08<00:00,  8.81it/s]"
     ]
    },
    {
     "name": "stdout",
     "output_type": "stream",
     "text": [
      "Validation LeNet_with_Adamax\n"
     ]
    },
    {
     "name": "stderr",
     "output_type": "stream",
     "text": [
      "\n",
      "100%|██████████| 20/20 [00:01<00:00, 10.52it/s]"
     ]
    },
    {
     "name": "stdout",
     "output_type": "stream",
     "text": [
      "Training loss: 1.195, training acc: 57.915\n",
      "Validation loss: 1.033, validation acc: 63.550\n",
      "Lr: [0.002]\n",
      "--------------------------------------------------\n",
      "[INFO]: Epoch 24 of 30\n",
      "Training LeNet_with_Adamax\n"
     ]
    },
    {
     "name": "stderr",
     "output_type": "stream",
     "text": [
      "\n",
      "100%|██████████| 78/78 [00:08<00:00,  9.10it/s]"
     ]
    },
    {
     "name": "stdout",
     "output_type": "stream",
     "text": [
      "Validation LeNet_with_Adamax\n"
     ]
    },
    {
     "name": "stderr",
     "output_type": "stream",
     "text": [
      "\n",
      "100%|██████████| 20/20 [00:02<00:00,  9.94it/s]"
     ]
    },
    {
     "name": "stdout",
     "output_type": "stream",
     "text": [
      "Training loss: 1.193, training acc: 58.478\n",
      "Validation loss: 0.996, validation acc: 64.500\n",
      "Lr: [0.002]\n",
      "\n",
      "BEST VALIDATION: 64.5\n",
      "\n",
      "SAVING BEST MODEL FOR EPOCH: 24\n",
      "\n",
      "--------------------------------------------------\n",
      "[INFO]: Epoch 25 of 30\n",
      "Training LeNet_with_Adamax\n"
     ]
    },
    {
     "name": "stderr",
     "output_type": "stream",
     "text": [
      "\n",
      "100%|██████████| 78/78 [00:08<00:00,  9.41it/s]"
     ]
    },
    {
     "name": "stdout",
     "output_type": "stream",
     "text": [
      "Validation LeNet_with_Adamax\n"
     ]
    },
    {
     "name": "stderr",
     "output_type": "stream",
     "text": [
      "\n",
      "100%|██████████| 20/20 [00:01<00:00, 10.30it/s]"
     ]
    },
    {
     "name": "stdout",
     "output_type": "stream",
     "text": [
      "Training loss: 1.179, training acc: 58.775\n",
      "Validation loss: 0.991, validation acc: 64.490\n",
      "Lr: [0.002]\n",
      "--------------------------------------------------\n",
      "[INFO]: Epoch 26 of 30\n",
      "Training LeNet_with_Adamax\n"
     ]
    },
    {
     "name": "stderr",
     "output_type": "stream",
     "text": [
      "\n",
      "100%|██████████| 78/78 [00:08<00:00,  8.77it/s]"
     ]
    },
    {
     "name": "stdout",
     "output_type": "stream",
     "text": [
      "Validation LeNet_with_Adamax\n"
     ]
    },
    {
     "name": "stderr",
     "output_type": "stream",
     "text": [
      "\n",
      "100%|██████████| 20/20 [00:01<00:00, 10.44it/s]"
     ]
    },
    {
     "name": "stdout",
     "output_type": "stream",
     "text": [
      "Training loss: 1.176, training acc: 58.645\n",
      "Validation loss: 0.985, validation acc: 65.130\n",
      "Lr: [0.002]\n",
      "\n",
      "BEST VALIDATION: 65.13\n",
      "\n",
      "SAVING BEST MODEL FOR EPOCH: 26\n",
      "\n",
      "--------------------------------------------------\n",
      "[INFO]: Epoch 27 of 30\n",
      "Training LeNet_with_Adamax\n"
     ]
    },
    {
     "name": "stderr",
     "output_type": "stream",
     "text": [
      "\n",
      "100%|██████████| 78/78 [00:09<00:00,  8.18it/s]"
     ]
    },
    {
     "name": "stdout",
     "output_type": "stream",
     "text": [
      "Validation LeNet_with_Adamax\n"
     ]
    },
    {
     "name": "stderr",
     "output_type": "stream",
     "text": [
      "\n",
      "100%|██████████| 20/20 [00:02<00:00,  8.40it/s]"
     ]
    },
    {
     "name": "stdout",
     "output_type": "stream",
     "text": [
      "Training loss: 1.170, training acc: 59.130\n",
      "Validation loss: 0.975, validation acc: 65.360\n",
      "Lr: [0.002]\n",
      "\n",
      "BEST VALIDATION: 65.36\n",
      "\n",
      "SAVING BEST MODEL FOR EPOCH: 27\n",
      "\n",
      "--------------------------------------------------\n",
      "[INFO]: Epoch 28 of 30\n",
      "Training LeNet_with_Adamax\n"
     ]
    },
    {
     "name": "stderr",
     "output_type": "stream",
     "text": [
      "\n",
      "100%|██████████| 78/78 [00:09<00:00,  7.83it/s]"
     ]
    },
    {
     "name": "stdout",
     "output_type": "stream",
     "text": [
      "Validation LeNet_with_Adamax\n"
     ]
    },
    {
     "name": "stderr",
     "output_type": "stream",
     "text": [
      "\n",
      "100%|██████████| 20/20 [00:02<00:00,  9.26it/s]"
     ]
    },
    {
     "name": "stdout",
     "output_type": "stream",
     "text": [
      "Training loss: 1.167, training acc: 59.267\n",
      "Validation loss: 0.973, validation acc: 65.090\n",
      "Lr: [0.002]\n",
      "--------------------------------------------------\n",
      "[INFO]: Epoch 29 of 30\n",
      "Training LeNet_with_Adamax\n"
     ]
    },
    {
     "name": "stderr",
     "output_type": "stream",
     "text": [
      "\n",
      "100%|██████████| 78/78 [00:09<00:00,  8.13it/s]"
     ]
    },
    {
     "name": "stdout",
     "output_type": "stream",
     "text": [
      "Validation LeNet_with_Adamax\n"
     ]
    },
    {
     "name": "stderr",
     "output_type": "stream",
     "text": [
      "\n",
      "100%|██████████| 20/20 [00:02<00:00,  8.28it/s]"
     ]
    },
    {
     "name": "stdout",
     "output_type": "stream",
     "text": [
      "Training loss: 1.159, training acc: 59.570\n",
      "Validation loss: 0.977, validation acc: 65.280\n",
      "Lr: [0.002]\n",
      "--------------------------------------------------\n",
      "[INFO]: Epoch 30 of 30\n",
      "Training LeNet_with_Adamax\n"
     ]
    },
    {
     "name": "stderr",
     "output_type": "stream",
     "text": [
      "\n",
      "100%|██████████| 78/78 [00:09<00:00,  8.07it/s]"
     ]
    },
    {
     "name": "stdout",
     "output_type": "stream",
     "text": [
      "Validation LeNet_with_Adamax\n"
     ]
    },
    {
     "name": "stderr",
     "output_type": "stream",
     "text": [
      "\n",
      "100%|██████████| 20/20 [00:02<00:00,  8.94it/s]"
     ]
    },
    {
     "name": "stdout",
     "output_type": "stream",
     "text": [
      "Training loss: 1.156, training acc: 59.828\n",
      "Validation loss: 0.972, validation acc: 65.840\n",
      "Lr: [0.002]\n",
      "\n",
      "BEST VALIDATION: 65.84\n",
      "\n",
      "SAVING BEST MODEL FOR EPOCH: 30\n",
      "\n",
      "--------------------------------------------------\n"
     ]
    },
    {
     "name": "stderr",
     "output_type": "stream",
     "text": [
      "\n"
     ]
    }
   ],
   "source": [
    "epochs = 30\n",
    "for model in models:\n",
    "    print(f\"[INFO]: {model}\")\n",
    "    model.model.to(device)\n",
    "    for epoch in range(0, epochs):\n",
    "        print(f\"[INFO]: Epoch {epoch+1} of {epochs}\")\n",
    "        model.step(epoch, train_data, val_data)\n",
    "    model.save_model(epoch)\n",
    "    model.save_train_data(epoch)\n",
    "    del model.model\n",
    "    torch.cuda.empty_cache()\n"
   ]
  }
 ],
 "metadata": {
  "kernelspec": {
   "display_name": ".venv",
   "language": "python",
   "name": "python3"
  },
  "language_info": {
   "codemirror_mode": {
    "name": "ipython",
    "version": 3
   },
   "file_extension": ".py",
   "mimetype": "text/x-python",
   "name": "python",
   "nbconvert_exporter": "python",
   "pygments_lexer": "ipython3",
   "version": "3.12.3"
  }
 },
 "nbformat": 4,
 "nbformat_minor": 4
}
