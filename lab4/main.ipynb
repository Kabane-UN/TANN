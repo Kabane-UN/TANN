{
 "cells": [
  {
   "cell_type": "code",
   "execution_count": 16,
   "metadata": {},
   "outputs": [],
   "source": [
    "from torchvision.datasets import MNIST\n",
    "import numpy as np\n",
    "import matplotlib.pyplot as plt\n",
    "from torch.utils.data import Subset, DataLoader\n",
    "from tqdm import tqdm"
   ]
  },
  {
   "cell_type": "code",
   "execution_count": 17,
   "metadata": {},
   "outputs": [],
   "source": [
    "class Linear:\n",
    "    def __init__(self, inodes, onodes, opt):\n",
    "        self.w = np.random.normal(scale=1,\n",
    "                                  size=(onodes, inodes),\n",
    "        ) * np.sqrt(2 / (inodes + onodes))\n",
    "        self.b = np.zeros(onodes)\n",
    "        self.accumulated_w = 0.0\n",
    "        self.accumulated_b = 0.0\n",
    "        self.accumulated_len = 0\n",
    "        self.beta1, self.beta2 = 0.9, 0.999\n",
    "        self.epsilon = 1e-08\n",
    "        # self.weight_decay=0.0001\n",
    "        self.weight_decay = 0.0\n",
    "        self.first_moment_w, self.second_moment_w = \\\n",
    "            np.zeros((onodes, inodes)),\\\n",
    "            np.zeros((onodes, inodes))\n",
    "        self.first_moment_b, self.second_moment_b = \\\n",
    "            np.zeros((onodes)),\\\n",
    "            np.zeros((onodes))\n",
    "        self.OPT = opt\n",
    "        self.accumulated_bt_w = 0.0\n",
    "        self.accumulated_bt_b = 0.0\n",
    "        self.mu = 0.9\n",
    "        self.state_sum_w = 0.0\n",
    "        self.state_sum_b = 0.0\n",
    "        self.eps = 1e-10\n",
    "    def __call__(self, x):\n",
    "        self.x = x\n",
    "        return np.dot(self.w, x)+self.b\n",
    "    def backward(self, grad, lr, update):\n",
    "        dw = np.outer(grad, self.x)\n",
    "        db = grad\n",
    "        self.accumulated_len += 1\n",
    "        self.accumulated_w += dw\n",
    "        self.accumulated_b += db\n",
    "        if update:\n",
    "            match self.OPT:\n",
    "                case 'Adam':\n",
    "                    g_w = self.accumulated_w/self.accumulated_len\n",
    "                    g_b = self.accumulated_b/self.accumulated_len\n",
    "                    self.w -= self.weight_decay*self.w \n",
    "                    self.b -= self.weight_decay*self.b\n",
    "                    self.first_moment_w = self.beta1*self.first_moment_w+(1-self.beta1)*g_w\n",
    "                    self.first_moment_b = self.beta1*self.first_moment_b+(1-self.beta1)*g_b\n",
    "                    self.second_moment_w = self.beta2*self.second_moment_w+(1-self.beta2)*g_w**2\n",
    "                    self.second_moment_b = self.beta2*self.second_moment_b+(1-self.beta2)*g_b**2\n",
    "                    m_w = self.first_moment_w/(1-self.beta1)\n",
    "                    m_b = self.first_moment_b/(1-self.beta1)\n",
    "                    v_w = self.second_moment_w/(1-self.beta2)\n",
    "                    v_b = self.second_moment_b/(1-self.beta2)\n",
    "                    self.w -= lr*m_w/(np.sqrt(v_w)+self.epsilon)\n",
    "                    self.b -= lr*m_b/(np.sqrt(v_b)+self.epsilon)\n",
    "                case 'SGD':\n",
    "                    self.w -= lr*self.accumulated_w/self.accumulated_len\n",
    "                    self.b -= lr*self.accumulated_b/self.accumulated_len\n",
    "                case 'NGD':\n",
    "                    g_w = self.accumulated_w/self.accumulated_len\n",
    "                    g_b = self.accumulated_b/self.accumulated_len\n",
    "                    self.accumulated_bt_w = self.mu*self.accumulated_bt_w + g_w\n",
    "                    self.accumulated_bt_b = self.mu*self.accumulated_bt_b + g_b \n",
    "                    g_w += self.mu*self.accumulated_bt_w\n",
    "                    g_b += self.mu*self.accumulated_bt_b\n",
    "                    self.w -= lr*g_w\n",
    "                    self.b -= lr*g_b\n",
    "                case 'Adagrad':\n",
    "                    g_w = self.accumulated_w/self.accumulated_len\n",
    "                    g_b = self.accumulated_b/self.accumulated_len\n",
    "                    self.state_sum_w += g_w**2\n",
    "                    self.state_sum_b += g_b**2\n",
    "                    self.w -= lr * g_w / (np.sqrt(self.state_sum_w)+self.eps)\n",
    "                    self.b -= lr * g_b / (np.sqrt(self.state_sum_b)+self.eps)\n",
    "            self.zero_grad()\n",
    "        return np.dot(grad, self.w)\n",
    "    def zero_grad(self):\n",
    "        self.accumulated_w = 0.0\n",
    "        self.accumulated_b = 0.0\n",
    "        self.accumulated_len = 0\n",
    "class ReLu:\n",
    "    def __call__(self, x):\n",
    "        self.x = x\n",
    "        return np.maximum(x, 0)\n",
    "    def backward(self, grad):\n",
    "        grad[self.x < 0] = 0\n",
    "        return grad\n",
    "class Softmax:\n",
    "    def __call__(self, x):\n",
    "        self.p = np.exp(x) / np.sum(np.exp(x))\n",
    "        return self.p \n",
    "    def backward(self, grad):\n",
    "        jacobian = np.zeros((np.size(grad), np.size(grad)))\n",
    "        for i in range(len(jacobian)):\n",
    "            for j in range(len(jacobian)):\n",
    "                if i == j:\n",
    "                    jacobian[i][j] = self.p[i] * (1 - self.p[j])\n",
    "                else:\n",
    "                    jacobian[i][j] = -self.p[i] * self.p[j]\n",
    "        return grad @ jacobian\n"
   ]
  },
  {
   "cell_type": "code",
   "execution_count": 18,
   "metadata": {},
   "outputs": [],
   "source": [
    "\n",
    "\n",
    "\n",
    "\n",
    "\n",
    "class L2Loss:\n",
    "    def __call__(self, y, p) :\n",
    "        self.p = p\n",
    "        self.y = y\n",
    "        return np.sum((y-p)**2)\n",
    "    def backward(self):\n",
    "        return (self.p-self.y)*2\n",
    "class CrossEntropy:\n",
    "    def __call__(self, y, p):\n",
    "        self.p = p\n",
    "        self.y = y \n",
    "        return -np.sum(y*np.log(p))\n",
    "    def backward(self):\n",
    "        return -self.y/self.p \n",
    "class KLDivLoss:\n",
    "    def __call__(self, y, p):\n",
    "        self.p = p\n",
    "        self.y = y \n",
    "        res = y*(np.log(y/p))\n",
    "        return np.sum(np.where(np.isnan(res), 0, res))\n",
    "    def backward(self):\n",
    "        return -self.y/self.p\n",
    "    "
   ]
  },
  {
   "cell_type": "code",
   "execution_count": 19,
   "metadata": {},
   "outputs": [],
   "source": [
    "class NN:\n",
    "    def __init__(self, arch):\n",
    "        self.arch = arch \n",
    "    def __call__(self, x):\n",
    "        p = None\n",
    "        for layer in self.arch:\n",
    "            if not (p is None):\n",
    "                p = layer[0](p)\n",
    "                p = layer[1](p)\n",
    "            else:\n",
    "                p = layer[0](x)\n",
    "                p = layer[1](p)\n",
    "        return p\n",
    "    def backward(self, grad, lr, update):\n",
    "        for layer in self.arch[::-1]:\n",
    "            grad = layer[1].backward(grad)\n",
    "            grad = layer[0].backward(grad, lr, update)\n",
    "    def zero_grad(self):\n",
    "        for layer in self.arch[::-1]:\n",
    "            grad = layer[0].zero_grad()\n",
    "        "
   ]
  },
  {
   "cell_type": "code",
   "execution_count": 20,
   "metadata": {},
   "outputs": [],
   "source": [
    "ds = MNIST(\n",
    "    './data/train',\n",
    "    True,\n",
    "    lambda img: np.array(np.asarray(img).flatten())/256,\n",
    "    lambda y: np.array([1 if i==y else 0 for i in range(10)]),\n",
    "    download=False\n",
    ")\n",
    "ds_test = MNIST(\n",
    "    './data/test',\n",
    "    False,\n",
    "    lambda img: np.array(np.asarray(img).flatten())/256,\n",
    "    lambda y: np.array([1 if i==y else 0 for i in range(10)]),\n",
    "    download=False\n",
    ")\n",
    "ds_train = Subset(ds, range(0, 55000))\n",
    "ds_val = Subset(ds, range(55000, 60000))\n",
    "batch_size = 64\n",
    "train_data = DataLoader(ds_train, batch_size, True, drop_last=True)\n",
    "test_data = DataLoader(ds_test, None, False)\n",
    "val_data = DataLoader(ds_val, None, False)\n"
   ]
  },
  {
   "cell_type": "code",
   "execution_count": 21,
   "metadata": {},
   "outputs": [],
   "source": [
    "def save_plot(x, name, labels):\n",
    "    plt.figure(figsize=(10, 7))\n",
    "    plt.plot(\n",
    "        x, linestyle='-', \n",
    "        label=labels\n",
    "    )\n",
    "    plt.xlabel('Epochs')\n",
    "    plt.ylabel(name)\n",
    "    plt.legend()\n",
    "    plt.savefig(f\"{name}.png\")"
   ]
  },
  {
   "cell_type": "code",
   "execution_count": 22,
   "metadata": {},
   "outputs": [],
   "source": [
    "def multi_train(models, img, target, loss_functions, lr, batch_counter):\n",
    "    losss = []\n",
    "    for model, loss_function in zip(models, loss_functions):\n",
    "        pred = model(img)\n",
    "        loss = loss_function(target, pred)\n",
    "        losss.append(loss)\n",
    "        batch_counter += 1\n",
    "        if batch_counter != batch_size:\n",
    "            model.backward(loss_function.backward(), lr, False)\n",
    "        else:\n",
    "            model.backward(loss_function.backward(), lr, True)\n",
    "    return losss\n",
    "def multi_val(models, img, target):\n",
    "    accs = []\n",
    "    for model in models:\n",
    "        pred = model(img)\n",
    "        accs.append(1 if np.argmax(pred) == np.argmax(target) else 0)\n",
    "    return accs"
   ]
  },
  {
   "cell_type": "code",
   "execution_count": 23,
   "metadata": {},
   "outputs": [],
   "source": [
    "def train_one_epoch(models, data, val, loss_functions, lr):\n",
    "    losses = [[] for _ in models]\n",
    "    counter = 0\n",
    "    true = [0 for _ in models]\n",
    "    print(\"Train\")\n",
    "    for imgs, targets in tqdm(data):\n",
    "        batch_counter = 0\n",
    "        for i in range(len(models)):\n",
    "            models[i].zero_grad()\n",
    "            \n",
    "        for img, target in zip(imgs, targets):\n",
    "            img, target = np.asarray(img), np.asarray(target)\n",
    "            batch_counter+=1\n",
    "            losss = multi_train(models, img, target, loss_functions, lr, batch_counter)\n",
    "            for i in range(len(losss)):\n",
    "                losses[i].append(losss[i])\n",
    "            \n",
    "    res_loss = [np.mean(loss) for loss in losses]\n",
    "    print(f\"Loss: {res_loss}\")\n",
    "    print(\"Validate\")\n",
    "    for img, target in tqdm(val):\n",
    "        img, target = np.asarray(img), np.asarray(target)\n",
    "        accs = multi_val(models, img, target)\n",
    "        for i in range(len(accs)):\n",
    "            true[i] += accs[i]\n",
    "        counter +=1\n",
    "    res_acc = [model_true/counter for model_true in true]\n",
    "    print(f\"Accuracy: {res_acc}\")\n",
    "    return res_loss, res_acc\n",
    "\n",
    "        \n",
    "        "
   ]
  },
  {
   "cell_type": "code",
   "execution_count": 24,
   "metadata": {},
   "outputs": [],
   "source": [
    "models = [\n",
    "    NN([\n",
    "        [Linear(784, 1024, 'SGD'), ReLu()],\n",
    "        [Linear(1024, 256, 'SGD'), ReLu()],\n",
    "        [Linear(256, 64, 'SGD'), ReLu()],\n",
    "        [Linear(64, 10, 'SGD'), Softmax()],\n",
    "    ]),\n",
    "    NN([\n",
    "        [Linear(784, 1024, 'NGD'), ReLu()],\n",
    "        [Linear(1024, 256, 'NGD'), ReLu()],\n",
    "        [Linear(256, 64, 'NGD'), ReLu()],\n",
    "        [Linear(64, 10, 'NGD'), Softmax()],\n",
    "    ]),\n",
    "    NN([\n",
    "        [Linear(784, 1024, 'Adagrad'), ReLu()],\n",
    "        [Linear(1024, 256, 'Adagrad'), ReLu()],\n",
    "        [Linear(256, 64, 'Adagrad'), ReLu()],\n",
    "        [Linear(64, 10, 'Adagrad'), Softmax()],\n",
    "    ]),\n",
    "    NN([\n",
    "        [Linear(784, 1024, 'Adam'), ReLu()],\n",
    "        [Linear(1024, 256, 'Adam'), ReLu()],\n",
    "        [Linear(256, 64, 'Adam'), ReLu()],\n",
    "        [Linear(64, 10, 'Adam'), Softmax()],\n",
    "    ])\n",
    "]\n",
    "loss_function = [CrossEntropy(), CrossEntropy(), CrossEntropy(), CrossEntropy()]\n",
    "lr = 0.001\n",
    "num_epochs = 3"
   ]
  },
  {
   "cell_type": "code",
   "execution_count": 25,
   "metadata": {},
   "outputs": [
    {
     "name": "stdout",
     "output_type": "stream",
     "text": [
      "Epoch 1 of 3\n",
      "Train\n"
     ]
    },
    {
     "name": "stderr",
     "output_type": "stream",
     "text": [
      "100%|██████████| 859/859 [09:06<00:00,  1.57it/s]\n"
     ]
    },
    {
     "name": "stdout",
     "output_type": "stream",
     "text": [
      "Loss: [np.float64(2.051728463590799), np.float64(0.82533272064717), np.float64(0.3317930694498785), np.float64(0.19219817419392604)]\n",
      "Validate\n"
     ]
    },
    {
     "name": "stderr",
     "output_type": "stream",
     "text": [
      "100%|██████████| 5000/5000 [00:06<00:00, 775.14it/s]\n"
     ]
    },
    {
     "name": "stdout",
     "output_type": "stream",
     "text": [
      "Accuracy: [0.6926, 0.926, 0.9564, 0.974]\n",
      "Epoch 2 of 3\n",
      "Train\n"
     ]
    },
    {
     "name": "stderr",
     "output_type": "stream",
     "text": [
      "100%|██████████| 859/859 [09:04<00:00,  1.58it/s]\n"
     ]
    },
    {
     "name": "stdout",
     "output_type": "stream",
     "text": [
      "Loss: [np.float64(1.406535097601811), np.float64(0.3092544614571505), np.float64(0.196688099209607), np.float64(0.07196577647793342)]\n",
      "Validate\n"
     ]
    },
    {
     "name": "stderr",
     "output_type": "stream",
     "text": [
      "100%|██████████| 5000/5000 [00:06<00:00, 751.30it/s]\n"
     ]
    },
    {
     "name": "stdout",
     "output_type": "stream",
     "text": [
      "Accuracy: [0.8334, 0.9428, 0.9626, 0.976]\n",
      "Epoch 3 of 3\n",
      "Train\n"
     ]
    },
    {
     "name": "stderr",
     "output_type": "stream",
     "text": [
      "100%|██████████| 859/859 [09:03<00:00,  1.58it/s]\n"
     ]
    },
    {
     "name": "stdout",
     "output_type": "stream",
     "text": [
      "Loss: [np.float64(0.9089692635502176), np.float64(0.24832363408755853), np.float64(0.1662410426317834), np.float64(0.046291801289537984)]\n",
      "Validate\n"
     ]
    },
    {
     "name": "stderr",
     "output_type": "stream",
     "text": [
      "100%|██████████| 5000/5000 [00:06<00:00, 745.32it/s]"
     ]
    },
    {
     "name": "stdout",
     "output_type": "stream",
     "text": [
      "Accuracy: [0.8752, 0.948, 0.9644, 0.9812]\n"
     ]
    },
    {
     "name": "stderr",
     "output_type": "stream",
     "text": [
      "\n"
     ]
    }
   ],
   "source": [
    "losses = [[] for _ in models]\n",
    "acces = [[] for _ in models]\n",
    "for i in range(1, num_epochs+1):\n",
    "    print(f\"Epoch {i} of {num_epochs}\")\n",
    "    loss, acc = train_one_epoch(models, train_data, val_data, loss_function, lr)\n",
    "    for i in range(len(acces)):\n",
    "        losses[i].append(loss[i])\n",
    "        acces[i].append(acc[i])"
   ]
  },
  {
   "cell_type": "code",
   "execution_count": 26,
   "metadata": {},
   "outputs": [
    {
     "data": {
      "image/png": "[encoded data removed]",
      "text/plain": [
       "<Figure size 1000x700 with 1 Axes>"
      ]
     },
     "metadata": {},
     "output_type": "display_data"
    },
    {
     "data": {
      "image/png": "[encoded data removed]",
      "text/plain": [
       "<Figure size 1000x700 with 1 Axes>"
      ]
     },
     "metadata": {},
     "output_type": "display_data"
    }
   ],
   "source": [
    "losses = np.asarray(losses).T\n",
    "acces = np.asarray(acces).T\n",
    "save_plot(losses, 'Loss', ['SGD', 'NGD', 'Adagrad', 'Adam'])\n",
    "save_plot(acces, 'Acc', ['SGD', 'NGD', 'Adagrad', 'Adam'])"
   ]
  },
  {
   "cell_type": "code",
   "execution_count": 27,
   "metadata": {},
   "outputs": [],
   "source": [
    "\n",
    "import pickle\n",
    "with open(r'backup.pickle', 'wb') as f:\n",
    "    pickle.dump(models, f)\n",
    "    \n",
    "    "
   ]
  },
  {
   "cell_type": "code",
   "execution_count": 28,
   "metadata": {},
   "outputs": [],
   "source": [
    "# with open(r'backup.pickle', 'rb') as f:\n",
    "#     models1 = pickle.load(f)\n",
    "\n",
    "# for img, target in test_data:\n",
    "#     img, target = np.asarray(img), np.asarray(target)\n",
    "#     print(np.argmax(models1[0](img)), np.argmax(target))\n",
    "#     plt.imshow(img.reshape((28, 28)))\n",
    "#     break"
   ]
  },
  {
   "cell_type": "code",
   "execution_count": 29,
   "metadata": {},
   "outputs": [],
   "source": [
    "# models1[0]()"
   ]
  },
  {
   "cell_type": "code",
   "execution_count": 30,
   "metadata": {},
   "outputs": [],
   "source": [
    "# def save_mat(mat, name):\n",
    "#     classes = ['0', '1', '2', '3', '4', '5', '6', '7', '8', '9']\n",
    "#     figure = plt.figure()\n",
    "#     figure.legend(name)\n",
    "#     axes = figure.add_subplot(111)\n",
    "    \n",
    "#     caxes = axes.matshow(mat, interpolation ='nearest')\n",
    "#     figure.colorbar(caxes)\n",
    "    \n",
    "#     axes.set_xticklabels(['']+classes)\n",
    "#     axes.set_yticklabels(['']+classes)\n",
    "#     plt.savefig(f\"{name}.png\")\n",
    "    "
   ]
  },
  {
   "cell_type": "code",
   "execution_count": 31,
   "metadata": {},
   "outputs": [],
   "source": [
    "# def calculate_conf_matrix(model, test):\n",
    "#     conf = np.zeros((len(test), len(test)), dtype=np.int64)\n",
    "#     for img, target in tqdm(test):\n",
    "#         img, target = np.asarray(img), np.asarray(target)\n",
    "#         pred = model(img)\n",
    "#         j, i = np.argmax(pred), np.argmax(target)\n",
    "#         conf[i, j] += 1\n",
    "#     return conf\n",
    "# mats = []\n",
    "# for model in models:\n",
    "#     mats.append(calculate_conf_matrix(model, test_data))\n"
   ]
  },
  {
   "cell_type": "code",
   "execution_count": 32,
   "metadata": {},
   "outputs": [],
   "source": [
    "# print(mats[0])\n",
    "# for mat, name in zip(mats, ['CrossEntropy', 'KLDivLoss', 'L2Loss']):\n",
    "#     save_mat(mat, name)"
   ]
  }
 ],
 "metadata": {
  "kernelspec": {
   "display_name": ".venv",
   "language": "python",
   "name": "python3"
  },
  "language_info": {
   "codemirror_mode": {
    "name": "ipython",
    "version": 3
   },
   "file_extension": ".py",
   "mimetype": "text/x-python",
   "name": "python",
   "nbconvert_exporter": "python",
   "pygments_lexer": "ipython3",
   "version": "3.12.3"
  }
 },
 "nbformat": 4,
 "nbformat_minor": 2
}
